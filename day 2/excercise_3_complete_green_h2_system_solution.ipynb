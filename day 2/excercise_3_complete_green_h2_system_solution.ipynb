{
 "cells": [
  {
   "cell_type": "code",
   "execution_count": null,
   "metadata": {},
   "outputs": [],
   "source": [
    "import pypsa\n",
    "import pandas as pd\n",
    "import numpy as np"
   ]
  },
  {
   "cell_type": "code",
   "execution_count": null,
   "metadata": {},
   "outputs": [],
   "source": [
    "solver = \"cbc\""
   ]
  },
  {
   "cell_type": "code",
   "execution_count": null,
   "metadata": {},
   "outputs": [],
   "source": [
    "# To calculate annualized capital expenditure\n",
    "def calculate_annualised_capex(capex: float, interest: float, lifetime: int):\n",
    "    crf = (\n",
    "        interest * (1 + interest) ** lifetime / ((1 + interest) ** lifetime - 1)\n",
    "    )  # Capital recovery factor\n",
    "    return capex * crf"
   ]
  },
  {
   "cell_type": "markdown",
   "metadata": {},
   "source": [
    "#### Initialize network"
   ]
  },
  {
   "cell_type": "markdown",
   "metadata": {},
   "source": [
    "*** \n",
    "Check-point 1:\n",
    "\n",
    "**Build a network in PyPSA with three nodes (`bus`) and following components to build a simple green hydrogen production system:**\n",
    "\n",
    "1. An `Electricity` bus with electricity as `carrier`.\n",
    "   1. A wind generator inside this bus.\n",
    "   2. A solar generator inside this bus.\n",
    "2. A `Hydrogen` bus with hydrogen as `carrier`.\n",
    "   1. A hydrogen demand load inside this bus.\n",
    "3. An electrolyser link to convert electricity into hydrogen.\n",
    "4. A `Hydrogen_storage` bus with hydrogen as `carrier`.\n",
    "   1. A hydrogen store inside this bus.\n",
    "5. A bidirectional link to transfar the hydrogen between hydrogen and hydrogen storage buses.\n",
    "\n",
    "**For simplicity, we assume the hydrogen demand profile to be flat for now. Afterwards, we want to supply electricy by attaching one renewable power plant implemented as (`generator`) (you have to call [`network.set_snapshots`](https://pypsa.readthedocs.io/en/latest/api/_source/pypsa.Network.set_snapshots.html) to select a year). As help you should have a look at the [PyPSA documentation](https://pypsa.readthedocs.io/en/latest/) and the [minimal lopf example](https://pypsa.readthedocs.io/en/latest/examples/lopf-with-heating.html), understand what the [components documentation](https://pypsa.readthedocs.io/en/latest/user-guide/components.html) of PyPSA gives you and that you can find the underlying objective function and constraints in the [LOPF documentation](https://pypsa.readthedocs.io/en/stable/user-guide/optimal-power-flow.html).**\n",
    "\n",
    "> **Remarks:** For time reasons, you do not have to build the network from scratch. However, to get you acquainted with PyPSA we have omitted a few elements or some of the parameters of the network marked by three question marks `???`. Either, you have to add an element similar to the one in the box above or add a few parameters."
   ]
  },
  {
   "cell_type": "code",
   "execution_count": null,
   "metadata": {},
   "outputs": [],
   "source": [
    "# Create empty PyPSA network\n",
    "network = pypsa.Network()"
   ]
  },
  {
   "cell_type": "code",
   "execution_count": null,
   "metadata": {},
   "outputs": [],
   "source": [
    "# Set snapshots to the year 2023 and at hourly resolution\n",
    "snapshots = pd.date_range(\"01-01-2023\", \"01-01-2024\", freq=\"H\", inclusive=\"left\")\n",
    "network.set_snapshots(snapshots)"
   ]
  },
  {
   "cell_type": "code",
   "execution_count": null,
   "metadata": {},
   "outputs": [],
   "source": [
    "network.snapshots"
   ]
  },
  {
   "cell_type": "code",
   "execution_count": null,
   "metadata": {},
   "outputs": [],
   "source": [
    "# Import an example of wind daily pattern\n",
    "wind_pattern = pd.read_csv(\"../data/weather data/example_onshore_wind_daily_pattern.csv\")[\"daily pattern\"]\n",
    "# annual time-series availability of onshore wind (just a simplified example)\n",
    "wind_profile = pd.Series(list(wind_pattern)*365, index=network.snapshots)"
   ]
  },
  {
   "cell_type": "code",
   "execution_count": null,
   "metadata": {},
   "outputs": [],
   "source": [
    "# Import an example of solar daily pattern\n",
    "solar_pattern = pd.read_csv(\"../data/weather data/example_solar_daily_pattern.csv\")[\"daily pattern\"]\n",
    "# annual time-series availability of solar (just a simplified example)\n",
    "solar_profile = pd.Series(list(solar_pattern)*365, index=network.snapshots)"
   ]
  },
  {
   "cell_type": "markdown",
   "metadata": {},
   "source": [
    "Add an `electricity` bus with electricity as `carrier`"
   ]
  },
  {
   "cell_type": "code",
   "execution_count": null,
   "metadata": {},
   "outputs": [],
   "source": [
    "network.add(class_name=\"Bus\", name=\"electricity\", carrier=\"electricity\")"
   ]
  },
  {
   "cell_type": "markdown",
   "metadata": {},
   "source": [
    "Add a `hydrogen` bus with hydrogen as `carrier`"
   ]
  },
  {
   "cell_type": "code",
   "execution_count": null,
   "metadata": {},
   "outputs": [],
   "source": [
    "network.add(class_name=\"Bus\", name=\"hydrogen\", carrier=\"hydrogen\")"
   ]
  },
  {
   "cell_type": "markdown",
   "metadata": {},
   "source": [
    "Add a `hydrogen_storage` bus with hydrogen as `carrier`"
   ]
  },
  {
   "cell_type": "code",
   "execution_count": null,
   "metadata": {},
   "outputs": [],
   "source": [
    "network.add(class_name=\"Bus\", name=\"hydrogen_storage\", carrier=\"hydrogen\")"
   ]
  },
  {
   "cell_type": "code",
   "execution_count": null,
   "metadata": {},
   "outputs": [],
   "source": [
    "network.buses"
   ]
  },
  {
   "cell_type": "markdown",
   "metadata": {},
   "source": [
    "Add a constant hourly hydrogen load of `100MW` at the hydrogen bus. The name of the load can be `hydrogen_load`"
   ]
  },
  {
   "cell_type": "code",
   "execution_count": null,
   "metadata": {},
   "outputs": [],
   "source": [
    "network.add(class_name=\"Load\", name=\"hydrogen_load\", bus=\"hydrogen\", p_set=100)"
   ]
  },
  {
   "cell_type": "code",
   "execution_count": null,
   "metadata": {},
   "outputs": [],
   "source": [
    "network.loads"
   ]
  },
  {
   "cell_type": "markdown",
   "metadata": {},
   "source": [
    "Add a store at the hydrogen_storage bus with a initial energy capacity of `0MWh`, and marginal cost of `0$/MWh` into the network? The name of the store can be `hydrogen_tank`. "
   ]
  },
  {
   "cell_type": "code",
   "execution_count": null,
   "metadata": {},
   "outputs": [],
   "source": [
    "network.add(\n",
    "      class_name=\"Store\",\n",
    "      name=\"hydrogen_tank\",\n",
    "      bus=\"hydrogen_storage\",\n",
    "      carrier=\"hydrogen\",\n",
    "      e_nom_extendable=True,\n",
    "      e_cyclic=True,\n",
    "      marginal_cost=0, #$/MWh\n",
    "      )"
   ]
  },
  {
   "cell_type": "markdown",
   "metadata": {},
   "source": [
    "Add a bidirectional link, representing the hydrogen charging and discharging between hydrogen and hydrogen_storage with marginal cost of `0$/MWh` into the network? The name of the link can be `hydrogen_flow`. "
   ]
  },
  {
   "cell_type": "code",
   "execution_count": null,
   "metadata": {},
   "outputs": [],
   "source": [
    "network.add(\n",
    "      class_name=\"Link\",\n",
    "      name=\"hydrogen_flow\",\n",
    "      bus0=\"hydrogen\",\n",
    "      bus1=\"hydrogen_storage\",\n",
    "      p_nom_extendable=True,\n",
    "      marginal_cost=0, #$/MWh\n",
    "      efficiency=1,\n",
    "      p_min_pu=-1\n",
    "      )"
   ]
  },
  {
   "cell_type": "markdown",
   "metadata": {},
   "source": [
    "Add a wind generator at the electricity bus with a initial capacity of `100MW`, maximum capacity of `500MW`, based on provided CAPEX, FOM, VOM, efficiency, interest rate and lifetime? The name of the generator can be `onshore_wind`. \n",
    "\n",
    "> **Source:** all costs for the example are taken from [PyPSA technology database](https://github.com/PyPSA/technology-data/blob/master/outputs/costs_2025.csv) and the assumptions in year 2023 in [EU map of hydrogen production costs](https://public.flourish.studio/visualisation/16659363/), with exchange rate of `1.1USD/EUR`"
   ]
  },
  {
   "cell_type": "code",
   "execution_count": null,
   "metadata": {},
   "outputs": [],
   "source": [
    "# Onshore Wind's techno-economic parameters are given as:\n",
    "eur_to_usd = 1.1\n",
    "lifetime = 25\n",
    "interest = 0.05\n",
    "\n",
    "CAPEX = 1420*eur_to_usd # $/MW\n",
    "FOM = 28*eur_to_usd  # $/MW fixed\n",
    "VOM = 0 # $/MWh variable\n",
    "\n",
    "efficiency = 1"
   ]
  },
  {
   "cell_type": "code",
   "execution_count": null,
   "metadata": {},
   "outputs": [],
   "source": [
    "annualized_capex = calculate_annualised_capex(CAPEX, interest, lifetime)\n",
    "\n",
    "network.add(\n",
    "    class_name=\"Generator\", \n",
    "    name=\"onshore_wind\",\n",
    "    bus=\"electricity\",\n",
    "    carrier=\"electricity\",\n",
    "    p_nom_extendable=True,\n",
    "    p_nom=100, # MW\n",
    "    p_nom_max=500, # MW\n",
    "    capital_cost=annualized_capex + FOM, #$/MW\n",
    "    marginal_cost=VOM, #$/MWh\n",
    "    efficiency=efficiency,\n",
    "    lifetime=lifetime,\n",
    "    p_max_pu=wind_profile\n",
    ")"
   ]
  },
  {
   "cell_type": "markdown",
   "metadata": {},
   "source": [
    "Add a solar generator at the electricity bus with a initial capacity of `10MW`, maximum capacity of `500MW`, based on provided CAPEX, FOM, VOM, efficiency, interest rate and lifetime? The name of the generator can be `solar`. \n",
    "\n",
    "> **Source:** all costs for the example are taken from [PyPSA technology database](https://github.com/PyPSA/technology-data/blob/master/outputs/costs_2025.csv) and the assumptions in year 2023 in [EU map of hydrogen production costs](https://public.flourish.studio/visualisation/16659363/), with exchange rate of `1.1USD/EUR`"
   ]
  },
  {
   "cell_type": "code",
   "execution_count": null,
   "metadata": {},
   "outputs": [],
   "source": [
    "# Solar's techno-economic parameters are given as:\n",
    "eur_to_use = 1.1\n",
    "lifetime = 20\n",
    "interest = 0.05\n",
    "\n",
    "CAPEX = 970*eur_to_use # $/MW\n",
    "FOM = 16*eur_to_use  # $/MW fixed\n",
    "VOM = 0 # $/MWh variable\n",
    "\n",
    "efficiency = 1"
   ]
  },
  {
   "cell_type": "code",
   "execution_count": null,
   "metadata": {},
   "outputs": [],
   "source": [
    "annualized_capex = calculate_annualised_capex(CAPEX, interest, lifetime)\n",
    "\n",
    "network.add(\n",
    "    class_name=\"Generator\", \n",
    "    name=\"solar\",\n",
    "    bus=\"electricity\",\n",
    "    carrier=\"electricity\",\n",
    "    p_nom_extendable=True,\n",
    "    p_nom=50,\n",
    "    p_nom_max=500, # MW\n",
    "    capital_cost=annualized_capex + FOM, #$/MW\n",
    "    marginal_cost=VOM, #$/MWh\n",
    "    efficiency=efficiency,\n",
    "    lifetime=lifetime,\n",
    "    p_max_pu=solar_profile\n",
    ")"
   ]
  },
  {
   "cell_type": "code",
   "execution_count": null,
   "metadata": {},
   "outputs": [],
   "source": [
    "network.generators"
   ]
  },
  {
   "cell_type": "markdown",
   "metadata": {},
   "source": [
    "Add an electrolyser link, representing the electrolysis conversion with initial capacity of `20MW`, based on provided CAPEX, FOM, VOM, efficiency, interest rate and lifetime.\n",
    "\n",
    "> **Source:** all costs for the example are taken from [PyPSA technology database](https://github.com/PyPSA/technology-data/blob/master/outputs/costs_2025.csv) and the assumptions in year 2023 in [EU map of hydrogen production costs](https://public.flourish.studio/visualisation/16659363/), with exchange rate of `1.1USD/EUR`"
   ]
  },
  {
   "cell_type": "code",
   "execution_count": null,
   "metadata": {},
   "outputs": [],
   "source": [
    "# Electrolyser's techno-economic parameters are given as:\n",
    "eur_to_usd = 1.1\n",
    "lifetime = 10\n",
    "interest = 0.05\n",
    "\n",
    "CAPEX = 1590*eur_to_usd # $/MW\n",
    "FOM = 32*eur_to_usd  # $/MW fixed\n",
    "VOM = 0 # $/MWh variable\n",
    "efficiency = 0.65"
   ]
  },
  {
   "cell_type": "code",
   "execution_count": null,
   "metadata": {},
   "outputs": [],
   "source": [
    "annualized_capex = calculate_annualised_capex(CAPEX, interest, lifetime)\n",
    "\n",
    "network.add(\n",
    "    class_name=\"Link\",\n",
    "    name=\"electrolyser\",\n",
    "    bus0=\"electricity\",\n",
    "    bus1=\"hydrogen\",\n",
    "    p_nom_extendable=True,\n",
    "    p_nom=20,\n",
    "    capital_cost=annualized_capex + FOM, #$/MW\n",
    "    marginal_cost=VOM, #$/MWh\n",
    "    efficiency=efficiency,\n",
    "    lifetime=lifetime\n",
    ")"
   ]
  },
  {
   "cell_type": "markdown",
   "metadata": {},
   "source": [
    "Now try to solve your network"
   ]
  },
  {
   "cell_type": "code",
   "execution_count": null,
   "metadata": {},
   "outputs": [],
   "source": [
    "# Solve network using cbc solver\n",
    "network.optimize(pyomo=False, solver_name=solver)"
   ]
  },
  {
   "cell_type": "markdown",
   "metadata": {},
   "source": [
    "Lets look at some results! Back to read the docs. How would you look at results?"
   ]
  },
  {
   "cell_type": "code",
   "execution_count": null,
   "metadata": {},
   "outputs": [],
   "source": [
    "# Inspect the interaction of different power plants to supply loads\n",
    "network.generators_t.p[:24*7].plot()"
   ]
  },
  {
   "cell_type": "code",
   "execution_count": null,
   "metadata": {},
   "outputs": [],
   "source": [
    "network.links_t.p0.head()"
   ]
  },
  {
   "cell_type": "code",
   "execution_count": null,
   "metadata": {},
   "outputs": [],
   "source": [
    "network.links_t.p1.head()"
   ]
  },
  {
   "cell_type": "code",
   "execution_count": null,
   "metadata": {},
   "outputs": [],
   "source": [
    "# Exporting check-point 1 network\n",
    "network.export_to_netcdf(\"../results/network_d2_e4-1.nc\")"
   ]
  },
  {
   "cell_type": "markdown",
   "metadata": {},
   "source": [
    "***\n",
    "Check-point 2:\n",
    "\n",
    "**Remove the electrolyser link from the previous exercise and replace it with a new electrolyser link including compressor with cost assumption and efficiency adjustment**"
   ]
  },
  {
   "cell_type": "code",
   "execution_count": null,
   "metadata": {},
   "outputs": [],
   "source": [
    "# Import check-point 1 network\n",
    "network = pypsa.Network(\"../results/network_d2_e4-1.nc\")"
   ]
  },
  {
   "cell_type": "code",
   "execution_count": null,
   "metadata": {},
   "outputs": [],
   "source": [
    "# remove hydrogen load from previous check-point\n",
    "network.remove(class_name=\"Load\", name=\"hydrogen_load\")"
   ]
  },
  {
   "cell_type": "code",
   "execution_count": null,
   "metadata": {},
   "outputs": [],
   "source": [
    "# remove electrolyser link from previous check-point\n",
    "network.remove(class_name=\"Link\", name=\"electrolyser\")"
   ]
  },
  {
   "cell_type": "markdown",
   "metadata": {},
   "source": [
    "Add a hourly hydrogen load at the hydrogen bus according to the daily pattern of industrial hydrogen demand (`100MW per hour` from 1am to 7pm, and with a shutodwn of 5 hours). The name of the load can be `hydroge_load`\n",
    "\n",
    "**To set hourly hydrogen demand, you have to call [`network.set_snapshots`](https://pypsa.readthedocs.io/en/latest/api/_source/pypsa.Network.set_snapshots.html) to select a year.For help, you should have a look at the [PyPSA documentation](https://pypsa.readthedocs.io/en/latest/) and the [optimzation with Linopy](https://pypsa.readthedocs.io/en/latest/examples/optimization-with-linopy.html), understand what the [components documentation](https://pypsa.readthedocs.io/en/latest/user-guide/components.html) of PyPSA gives you and that you can find the underlying objective function and constraints in the [System Optimization documentation](https://pypsa.readthedocs.io/en/stable/user-guide/optimal-power-flow.html).**"
   ]
  },
  {
   "cell_type": "code",
   "execution_count": null,
   "metadata": {},
   "outputs": [],
   "source": [
    "# Import an example of wind daily pattern\n",
    "load_pattern = pd.read_csv(\"../data/weather data/example_industrial_h2_demand_daily_pattern.csv\")[\"daily pattern\"]\n",
    "# annual time-series availability of onshore wind (just a simplified example)\n",
    "load_profile = pd.Series(list(load_pattern)*365, index=network.snapshots)"
   ]
  },
  {
   "cell_type": "code",
   "execution_count": null,
   "metadata": {},
   "outputs": [],
   "source": [
    "network.add(\n",
    "    class_name=\"Load\", \n",
    "    name=\"hydrogen_load\", \n",
    "    bus=\"hydrogen\", \n",
    "    p_set=load_profile\n",
    ")"
   ]
  },
  {
   "cell_type": "markdown",
   "metadata": {},
   "source": [
    "Add an electrolyser link including compressor, representing the electrolysis conversion with initial capacity of `20MW`, based on provided CAPEX, FOM, VOM, water_cost, efficiency, interest rate and lifetime.\n",
    "\n",
    "> **Source:** all costs for the example are taken from [PyPSA technology database](https://github.com/PyPSA/technology-data/blob/master/outputs/costs_2025.csv) and the assumptions in year 2023 in [EU map of hydrogen production costs](https://public.flourish.studio/visualisation/16659363/), with exchange rate of `1.1USD/EUR`"
   ]
  },
  {
   "cell_type": "code",
   "execution_count": null,
   "metadata": {},
   "outputs": [],
   "source": [
    "# Electrolyser's techno-economic parameters are given as:\n",
    "eur_to_usd = 1.1\n",
    "lifetime = 10\n",
    "interest = 0.05\n",
    "water_cost = 1.8 # EUR/m3, seawater\n",
    "water_conversion_cost= 21 # kgH2O/kgH2\n",
    "\n",
    "CAPEX = 1590*eur_to_usd # $/MW\n",
    "FOM = 32*eur_to_usd  # $/MW fixed\n",
    "VOM = 0 # $/MWh variable\n",
    "\n",
    "# calculate marginal cost for water consumption (EUR/MWh)\n",
    "# =water_cost*water_converstion_cost/(33.33(kWh)/1000)\n",
    "water_cost = ((water_cost/1000)*water_conversion_cost)/(33.33/1000)*eur_to_usd # 1kgH2 = 33.33kWh\n",
    "\n",
    "efficiency = 0.65\n",
    "\n",
    "\n",
    "# Adding compressor to compress hydrogen from electrolyser into hydrogen storage\n",
    "# 1. Convert electricity consumption for compressor from kWh_el/kg_h2 into kWh_el/kWh_h2\n",
    "# 2. the new value represents the share of electricity consumption, and the rest of share will be used for electrolyzer.\n",
    "electricity_consumption = 0.6  # kWh/kgH2\n",
    "elect_share = 1 - (electricity_consumption/33.33)\n",
    "new_efficiency = efficiency*elect_share\n",
    "\n",
    "# Compressor's techno-economic parameters are given as:\n",
    "lifetime_com = 25\n",
    "CAPEX_COM = 1720*eur_to_usd # $/MW\n",
    "FOM_COM = 34*eur_to_usd  # $/MW fixed\n",
    "VOM_COM = 0 # $/MWh variable"
   ]
  },
  {
   "cell_type": "code",
   "execution_count": null,
   "metadata": {},
   "outputs": [],
   "source": [
    "annualized_capex = calculate_annualised_capex(CAPEX, interest, lifetime)\n",
    "annualized_capex_com = calculate_annualised_capex(CAPEX_COM, interest, lifetime_com)\n",
    "\n",
    "network.add(\n",
    "    class_name=\"Link\",\n",
    "    name=\"electrolyser\",\n",
    "    bus0=\"electricity\",\n",
    "    bus1=\"hydrogen\",\n",
    "    p_nom_extendable=True,\n",
    "    p_nom=20,\n",
    "    capital_cost=annualized_capex + FOM + annualized_capex_com + FOM_COM, #$/MW\n",
    "    marginal_cost=VOM + water_cost + VOM_COM, #$/MWh\n",
    "    efficiency=new_efficiency,\n",
    "    lifetime=lifetime\n",
    ")"
   ]
  },
  {
   "cell_type": "markdown",
   "metadata": {},
   "source": [
    "Ending of check-point 2 - Solve network, analyse results and export network"
   ]
  },
  {
   "cell_type": "code",
   "execution_count": null,
   "metadata": {},
   "outputs": [],
   "source": [
    "# Solve network using cbc solver\n",
    "network.optimize(pyomo=False, solver_name=solver)"
   ]
  },
  {
   "cell_type": "code",
   "execution_count": null,
   "metadata": {},
   "outputs": [],
   "source": [
    "# Inspect the interaction of different power plants to supply loads\n",
    "network.generators_t.p[:24*7].plot()"
   ]
  },
  {
   "cell_type": "code",
   "execution_count": null,
   "metadata": {},
   "outputs": [],
   "source": [
    "# Inspect the change of energy capacity in hydrogen_tank store to supply loads\n",
    "network.stores_t.e[:24*7].plot()"
   ]
  },
  {
   "cell_type": "code",
   "execution_count": null,
   "metadata": {},
   "outputs": [],
   "source": [
    "# Inspect the change of energy capacity in hydrogen_tank store to supply loads\n",
    "network.stores_t.p[:24*7].plot()"
   ]
  },
  {
   "cell_type": "code",
   "execution_count": null,
   "metadata": {},
   "outputs": [],
   "source": [
    "# Inspect the electrolysis conversion\n",
    "network.links_t.p0[\"electrolyser\"][:24*7].plot()"
   ]
  },
  {
   "cell_type": "code",
   "execution_count": null,
   "metadata": {},
   "outputs": [],
   "source": [
    "# Inspect the charging flow\n",
    "network.links_t.p0[\"hydrogen_flow\"][:24*7].plot()"
   ]
  },
  {
   "cell_type": "code",
   "execution_count": null,
   "metadata": {},
   "outputs": [],
   "source": [
    "# Exporting check-point 2 network\n",
    "network.export_to_netcdf(\"../results/network_d2_e4-2.nc\")"
   ]
  },
  {
   "cell_type": "code",
   "execution_count": null,
   "metadata": {},
   "outputs": [],
   "source": []
  }
 ],
 "metadata": {
  "kernelspec": {
   "display_name": "Python 3.11.10 ('pypsa-agora')",
   "language": "python",
   "name": "python3"
  },
  "language_info": {
   "codemirror_mode": {
    "name": "ipython",
    "version": 3
   },
   "file_extension": ".py",
   "mimetype": "text/x-python",
   "name": "python",
   "nbconvert_exporter": "python",
   "pygments_lexer": "ipython3",
   "version": "3.11.10"
  },
  "vscode": {
   "interpreter": {
    "hash": "d33265b03f0fd43aaae402ef36c78c0dc6832657a131e746ad77efa446788bb3"
   }
  }
 },
 "nbformat": 4,
 "nbformat_minor": 2
}
