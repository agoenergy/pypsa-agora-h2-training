{
 "cells": [
  {
   "cell_type": "code",
   "execution_count": null,
   "metadata": {},
   "outputs": [],
   "source": [
    "import pypsa\n",
    "import pandas as pd\n",
    "import numpy as np"
   ]
  },
  {
   "cell_type": "code",
   "execution_count": null,
   "metadata": {},
   "outputs": [],
   "source": [
    "solver = \"cbc\""
   ]
  },
  {
   "cell_type": "markdown",
   "metadata": {},
   "source": [
    "*** \n",
    "Check-point 1:\n",
    "\n",
    "**Build a network in PyPSA with two nodes (`bus`) and following components to build a simple green hydrogen production system:**\n",
    "\n",
    "1. An `Electricity` bus with electricity as `carrier`.\n",
    "   1. A wind generator inside this bus.\n",
    "   2. A load_shedding generator inside this bus.\n",
    "2. A `Hydrogen` bus with hydrogen as `carrier`.\n",
    "   1. A hydrogen demand load inside this bus.\n",
    "3. An electrolyser link to convert electricity into hydrogen.\n",
    "\n",
    "**For simplicity, we assume the hydrogen demand profile to be flat for now. Afterwards, we want to supply electricy by attaching one renewable power plant implemented as (`generator`) (you have to call [`network.set_snapshots`](https://pypsa.readthedocs.io/en/latest/api/_source/pypsa.Network.set_snapshots.html) to select a year). As help you should have a look at the [PyPSA documentation](https://pypsa.readthedocs.io/en/latest/) and the [minimal lopf example](https://pypsa.readthedocs.io/en/latest/examples/lopf-with-heating.html), understand what the [components documentation](https://pypsa.readthedocs.io/en/latest/user-guide/components.html) of PyPSA gives you and that you can find the underlying objective function and constraints in the [LOPF documentation](https://pypsa.readthedocs.io/en/stable/user-guide/optimal-power-flow.html).**\n",
    "\n",
    "\n",
    "> **Remarks:** For time reasons, you do not have to build the network from scratch. However, to get you acquainted with PyPSA we have omitted a few elements or some of the parameters of the network marked by three question marks `???`. Either, you have to add an element similar to the one in the box above or add a few parameters."
   ]
  },
  {
   "cell_type": "markdown",
   "metadata": {},
   "source": [
    "#### Initialize network"
   ]
  },
  {
   "cell_type": "code",
   "execution_count": null,
   "metadata": {},
   "outputs": [],
   "source": [
    "# Create empty PyPSA network\n",
    "network = pypsa.Network()"
   ]
  },
  {
   "cell_type": "code",
   "execution_count": null,
   "metadata": {},
   "outputs": [],
   "source": [
    "# Set snapshots to the year 2023 and at hourly resolution\n",
    "snapshots = pd.date_range(\"01-01-2023\", \"01-01-2024\", freq=\"H\", inclusive=\"left\")\n",
    "network.set_snapshots(snapshots)"
   ]
  },
  {
   "cell_type": "code",
   "execution_count": null,
   "metadata": {},
   "outputs": [],
   "source": [
    "network.snapshots"
   ]
  },
  {
   "cell_type": "code",
   "execution_count": null,
   "metadata": {},
   "outputs": [],
   "source": [
    "# Import an example of wind daily pattern\n",
    "wind_pattern = pd.read_csv(\"../data/weather data/example_onshore_wind_daily_pattern.csv\")[\"daily pattern\"]\n",
    "# annual time-series availability of onshore wind (just a simplified example)\n",
    "wind_profile = pd.Series(list(wind_pattern)*365, index=network.snapshots)"
   ]
  },
  {
   "cell_type": "code",
   "execution_count": null,
   "metadata": {},
   "outputs": [],
   "source": [
    "wind_profile.head(24).plot()"
   ]
  },
  {
   "cell_type": "markdown",
   "metadata": {},
   "source": [
    "Add an `electricity` bus with electricity as `carrier`"
   ]
  },
  {
   "cell_type": "code",
   "execution_count": null,
   "metadata": {},
   "outputs": [],
   "source": [
    "network.add(class_name=\"Bus\", name=\"electricity\", carrier=\"electricity\")"
   ]
  },
  {
   "cell_type": "markdown",
   "metadata": {},
   "source": [
    "Add a `hydrogen` bus with hydrogen as `carrier`"
   ]
  },
  {
   "cell_type": "code",
   "execution_count": null,
   "metadata": {},
   "outputs": [],
   "source": [
    "network.add(class_name=\"Bus\", name=\"hydrogen\", carrier=\"hydrogen\")"
   ]
  },
  {
   "cell_type": "code",
   "execution_count": null,
   "metadata": {},
   "outputs": [],
   "source": [
    "network.buses"
   ]
  },
  {
   "cell_type": "markdown",
   "metadata": {},
   "source": [
    "Add constant hourly hydrogen load of `100MW` at the hydrogen bus. The name of the load can be `hydrogen_load`"
   ]
  },
  {
   "cell_type": "code",
   "execution_count": null,
   "metadata": {},
   "outputs": [],
   "source": [
    "network.add(class_name=\"Load\", name=\"hydrogen_load\", bus=\"hydrogen\", p_set=100)"
   ]
  },
  {
   "cell_type": "code",
   "execution_count": null,
   "metadata": {},
   "outputs": [],
   "source": [
    "network.loads"
   ]
  },
  {
   "cell_type": "markdown",
   "metadata": {},
   "source": [
    "Add a wind generator at the electricity bus with a initial capacity of `100MW`, maximum capacity of `500MW`, and marginal cost of `0$/MWh` into the network. The name of the generator can be `onshore_wind`. "
   ]
  },
  {
   "cell_type": "code",
   "execution_count": null,
   "metadata": {},
   "outputs": [],
   "source": [
    "network.add(\n",
    "      class_name=\"Generator\", \n",
    "      name=\"onshore_wind\",\n",
    "      bus=\"electricity\",\n",
    "      carrier=\"electricity\",\n",
    "      p_nom_extendable=True,\n",
    "      p_nom=100, # MW\n",
    "      p_nom_max=500, # MW\n",
    "      marginal_cost=0, #$/MWh\n",
    "      p_max_pu=wind_profile\n",
    ")"
   ]
  },
  {
   "cell_type": "markdown",
   "metadata": {},
   "source": [
    "Add an electrolyser link, representing the electrolysis conversion with initial capacity of `20MW`, based on provided CAPEX, FOM, VOM, efficiency, interest rate and lifetime.\n",
    "\n",
    "> **Source:** all costs for the example are taken from [PyPSA technology database](https://github.com/PyPSA/technology-data/blob/master/outputs/costs_2025.csv) and the assumptions in year 2023 in [EU map of hydrogen production costs](https://public.flourish.studio/visualisation/16659363/), with exchange rate of `1.1USD/EUR`"
   ]
  },
  {
   "cell_type": "code",
   "execution_count": null,
   "metadata": {},
   "outputs": [],
   "source": [
    "# Electrolyser's techno-economic parameters are given as:\n",
    "eur_to_usd = 1.1\n",
    "lifetime = 10\n",
    "interest = 0.05\n",
    "\n",
    "CAPEX = 1590*eur_to_usd # $/MW\n",
    "FOM = 32*eur_to_usd  # $/MW fixed\n",
    "VOM = 0 # $/MWh variable\n",
    "efficiency = 0.65"
   ]
  },
  {
   "cell_type": "code",
   "execution_count": null,
   "metadata": {},
   "outputs": [],
   "source": [
    "# We need to calculate annualized capital expenditure\n",
    "def calculate_annualised_capex(capex: float, interest: float, lifetime: int):\n",
    "    crf = (\n",
    "        interest * (1 + interest) ** lifetime / ((1 + interest) ** lifetime - 1)\n",
    "    )  # Capital recovery factor\n",
    "    return capex * crf"
   ]
  },
  {
   "cell_type": "code",
   "execution_count": null,
   "metadata": {},
   "outputs": [],
   "source": [
    "annualized_capex = calculate_annualised_capex(CAPEX, interest, lifetime)\n",
    "\n",
    "network.add(\n",
    "    class_name=\"Link\",\n",
    "    name=\"electrolyser\",\n",
    "    bus0=\"electricity\",\n",
    "    bus1=\"hydrogen\",\n",
    "    p_nom_extendable=True,\n",
    "    p_nom=20,\n",
    "    capital_cost=annualized_capex + FOM, #$/MW\n",
    "    marginal_cost=VOM, #$/MWh\n",
    "    efficiency=efficiency,\n",
    "    lifetime=lifetime\n",
    ")"
   ]
  },
  {
   "cell_type": "markdown",
   "metadata": {},
   "source": [
    "Now try to solve your network"
   ]
  },
  {
   "cell_type": "code",
   "execution_count": null,
   "metadata": {},
   "outputs": [],
   "source": [
    "# Solve network using cbc solver\n",
    "network.optimize(pyomo=False, solver_name=solver)"
   ]
  },
  {
   "cell_type": "markdown",
   "metadata": {},
   "source": [
    "Lets look at the optimisation. Does it solve successfully?"
   ]
  },
  {
   "cell_type": "markdown",
   "metadata": {},
   "source": [
    "Add a load shedding generator at the electricity bus with marginal cost of `9999$/MWh` (or any large figures) into the network? The name of the generator can be `load_shedding`. "
   ]
  },
  {
   "cell_type": "code",
   "execution_count": null,
   "metadata": {},
   "outputs": [],
   "source": [
    "# generator for electricity production from load shedding\n",
    "network.add(\n",
    "    class_name=\"Generator\",\n",
    "    name=\"load_shedding\",\n",
    "    bus=\"electricity\",\n",
    "    carrier=\"electricity\",\n",
    "    p_nom_extendable=True,\n",
    "    marginal_cost=9999,\n",
    "    )"
   ]
  },
  {
   "cell_type": "markdown",
   "metadata": {},
   "source": [
    "Now retry to solve your network. Does it solve successfully?"
   ]
  },
  {
   "cell_type": "code",
   "execution_count": null,
   "metadata": {},
   "outputs": [],
   "source": [
    "# Solve network using cbc solver\n",
    "network.optimize(pyomo=False, solver_name=solver)"
   ]
  },
  {
   "cell_type": "markdown",
   "metadata": {},
   "source": [
    "Lets look at some results! Back to read the docs. How would you look at results?"
   ]
  },
  {
   "cell_type": "code",
   "execution_count": null,
   "metadata": {},
   "outputs": [],
   "source": [
    "network.generators_t.p[:24*7].plot()"
   ]
  },
  {
   "cell_type": "code",
   "execution_count": null,
   "metadata": {},
   "outputs": [],
   "source": [
    "network.links_t.p0.head()"
   ]
  },
  {
   "cell_type": "code",
   "execution_count": null,
   "metadata": {},
   "outputs": [],
   "source": [
    "network.links_t.p1.head()"
   ]
  },
  {
   "cell_type": "code",
   "execution_count": null,
   "metadata": {},
   "outputs": [],
   "source": [
    "network.loads_t.p.head()"
   ]
  },
  {
   "cell_type": "markdown",
   "metadata": {},
   "source": [
    "Ending of check-point 1 - export network"
   ]
  },
  {
   "cell_type": "code",
   "execution_count": null,
   "metadata": {},
   "outputs": [],
   "source": [
    "# Export network\n",
    "network.export_to_netcdf(\"../results/network_d2_e2-1.nc\")"
   ]
  },
  {
   "cell_type": "markdown",
   "metadata": {},
   "source": [
    "***\n",
    "Check-point 2:\n",
    "\n",
    "**Add a solar generator so that we will have two generators + one load-shedding generator in the system**"
   ]
  },
  {
   "cell_type": "code",
   "execution_count": null,
   "metadata": {},
   "outputs": [],
   "source": [
    "# Import check-point 1 network\n",
    "network = pypsa.Network(\"../results/network_d2_e2-1.nc\")"
   ]
  },
  {
   "cell_type": "code",
   "execution_count": null,
   "metadata": {},
   "outputs": [],
   "source": [
    "# Import an example of solar daily pattern\n",
    "solar_pattern = pd.read_csv(\"../data/weather data/example_solar_daily_pattern.csv\")[\"daily pattern\"]\n",
    "# annual time-series availability of solar (just a simplified example)\n",
    "solar_profile = pd.Series(list(solar_pattern)*365, index=network.snapshots)"
   ]
  },
  {
   "cell_type": "code",
   "execution_count": null,
   "metadata": {},
   "outputs": [],
   "source": [
    "solar_profile.head(24).plot()"
   ]
  },
  {
   "cell_type": "markdown",
   "metadata": {},
   "source": [
    "Add a solar generator at the electricity bus with a initial capacity of `50MW`, maximum capacity of `500MW`, and marginal cost of `0$/MWh` into the network? The name of the generator can be `solar`. "
   ]
  },
  {
   "cell_type": "code",
   "execution_count": null,
   "metadata": {},
   "outputs": [],
   "source": [
    "network.add(\n",
    "      class_name=\"Generator\", \n",
    "      name=\"solar\",\n",
    "      bus=\"electricity\",\n",
    "      carrier=\"electricity\",\n",
    "      p_nom_extendable=True,\n",
    "      p_nom=50,\n",
    "      p_nom_max=500, # MW\n",
    "      marginal_cost=0, #$/MWh\n",
    "      p_max_pu=solar_profile\n",
    ")"
   ]
  },
  {
   "cell_type": "code",
   "execution_count": null,
   "metadata": {},
   "outputs": [],
   "source": [
    "network.generators"
   ]
  },
  {
   "cell_type": "markdown",
   "metadata": {},
   "source": [
    "Ending of check-point 2 - Solve network, analyse results and export network"
   ]
  },
  {
   "cell_type": "code",
   "execution_count": null,
   "metadata": {},
   "outputs": [],
   "source": [
    "# Solve network using cbc solver\n",
    "network.optimize(pyomo=False, solver_name=solver)"
   ]
  },
  {
   "cell_type": "code",
   "execution_count": null,
   "metadata": {},
   "outputs": [],
   "source": [
    "network.generators['p_nom_opt']"
   ]
  },
  {
   "cell_type": "code",
   "execution_count": null,
   "metadata": {},
   "outputs": [],
   "source": [
    "# Inspect the interaction of different power plants to supply loads\n",
    "network.generators_t.p[:24*7].plot()"
   ]
  },
  {
   "cell_type": "code",
   "execution_count": null,
   "metadata": {},
   "outputs": [],
   "source": [
    "# Inspect the electrolysis conversion\n",
    "network.links_t.p0.plot()"
   ]
  },
  {
   "cell_type": "code",
   "execution_count": null,
   "metadata": {},
   "outputs": [],
   "source": [
    "# Exporting check-point 2 network\n",
    "network.export_to_netcdf(\"../results/network_d2_e2-2.nc\")"
   ]
  },
  {
   "cell_type": "code",
   "execution_count": null,
   "metadata": {},
   "outputs": [],
   "source": []
  }
 ],
 "metadata": {
  "kernelspec": {
   "display_name": "Python 3.11.10 ('pypsa-agora')",
   "language": "python",
   "name": "python3"
  },
  "language_info": {
   "codemirror_mode": {
    "name": "ipython",
    "version": 3
   },
   "file_extension": ".py",
   "mimetype": "text/x-python",
   "name": "python",
   "nbconvert_exporter": "python",
   "pygments_lexer": "ipython3",
   "version": "3.11.10"
  },
  "vscode": {
   "interpreter": {
    "hash": "d33265b03f0fd43aaae402ef36c78c0dc6832657a131e746ad77efa446788bb3"
   }
  }
 },
 "nbformat": 4,
 "nbformat_minor": 2
}
