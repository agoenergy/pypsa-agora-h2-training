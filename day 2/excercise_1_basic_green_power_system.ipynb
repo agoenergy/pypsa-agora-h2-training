{
 "cells": [
  {
   "cell_type": "code",
   "execution_count": 1,
   "metadata": {},
   "outputs": [],
   "source": [
    "import pypsa\n",
    "import pandas as pd\n",
    "import numpy as np"
   ]
  },
  {
   "cell_type": "code",
   "execution_count": 2,
   "metadata": {},
   "outputs": [],
   "source": [
    "solver = \"cbc\""
   ]
  },
  {
   "cell_type": "markdown",
   "metadata": {},
   "source": [
    "*** \n",
    "Check-point 1:\n",
    "\n",
    "**Build a network in PyPSA with one nodes (`bus`) and following components to build a simple green electricity production system:**\n",
    "\n",
    "1. An `Electricity` bus with electricity as `carrier`.\n",
    "   1. A wind generator inside this bus.\n",
    "   2. A hydro generator inside this bus.\n",
    "   3. An electricity demand load inside this bus.\n",
    "\n",
    "**We will supply electricy by attaching one wind power plant implemented as (`generator`) (you have to call [`network.set_snapshots`](https://pypsa-readthedocs.readthedocs.io/en/readthedocs/api_reference.html?highlight=set_snapshots) to select a year). As help you should have a look at the [PyPSA documentation](https://pypsa-readthedocs.readthedocs.io/en/readthedocs/index.html) and the [minimal lopf example](https://www.pypsa.org/examples/minimal_example_lopf.html), understand what the [components documentation](https://pypsa-readthedocs.readthedocs.io/en/readthedocs/components.html) of PyPSA gives you and that you can find the underlying objective function and constraints in the [LOPF documentation](https://pypsa-readthedocs.readthedocs.io/en/readthedocs/optimal_power_flow.html).**\n",
    "\n",
    "\n",
    "> **Remarks:** For time reasons, you do not have to build the network from scratch. However, to get you acquainted with PyPSA we have omitted a few elements or some of the parameters of the network marked by three question marks `???`. Either, you have to add an element similar to the one in the box above or add a few parameters."
   ]
  },
  {
   "cell_type": "markdown",
   "metadata": {},
   "source": [
    "#### Initialize network"
   ]
  },
  {
   "cell_type": "code",
   "execution_count": 3,
   "metadata": {},
   "outputs": [],
   "source": [
    "# Create empty PyPSA network\n",
    "network = pypsa.Network()"
   ]
  },
  {
   "cell_type": "code",
   "execution_count": 14,
   "metadata": {},
   "outputs": [],
   "source": [
    "# Set snapshots to the year 2023 and at hourly resolution\n",
    "snapshots = pd.date_range('2023-01-01', '2024-01-01', freq='H', inclusive='left')\n",
    "network.set_snapshots(snapshots)"
   ]
  },
  {
   "cell_type": "code",
   "execution_count": 15,
   "metadata": {},
   "outputs": [
    {
     "data": {
      "text/plain": [
       "DatetimeIndex(['2023-01-01 00:00:00', '2023-01-01 01:00:00',\n",
       "               '2023-01-01 02:00:00', '2023-01-01 03:00:00',\n",
       "               '2023-01-01 04:00:00', '2023-01-01 05:00:00',\n",
       "               '2023-01-01 06:00:00', '2023-01-01 07:00:00',\n",
       "               '2023-01-01 08:00:00', '2023-01-01 09:00:00',\n",
       "               ...\n",
       "               '2023-12-31 14:00:00', '2023-12-31 15:00:00',\n",
       "               '2023-12-31 16:00:00', '2023-12-31 17:00:00',\n",
       "               '2023-12-31 18:00:00', '2023-12-31 19:00:00',\n",
       "               '2023-12-31 20:00:00', '2023-12-31 21:00:00',\n",
       "               '2023-12-31 22:00:00', '2023-12-31 23:00:00'],\n",
       "              dtype='datetime64[ns]', name='snapshot', length=8760, freq='H')"
      ]
     },
     "execution_count": 15,
     "metadata": {},
     "output_type": "execute_result"
    }
   ],
   "source": [
    "network.snapshots"
   ]
  },
  {
   "cell_type": "code",
   "execution_count": 16,
   "metadata": {},
   "outputs": [],
   "source": [
    "# Import an example of wind daily pattern\n",
    "wind_pattern = pd.read_csv(\"../data/weather data/example_onshore_wind_daily_pattern.csv\")[\"daily pattern\"]\n",
    "# annual time-series availability of onshore wind (just a simplified example)\n",
    "wind_profile = pd.Series(list(wind_pattern)*365, index=network.snapshots)"
   ]
  },
  {
   "cell_type": "markdown",
   "metadata": {},
   "source": [
    "Add an `electricity` bus with electricity as `carrier`"
   ]
  },
  {
   "cell_type": "code",
   "execution_count": null,
   "metadata": {},
   "outputs": [],
   "source": [
    "network.add(class_name=???, name=\"electricity\", carrier=???)"
   ]
  },
  {
   "cell_type": "markdown",
   "metadata": {},
   "source": [
    "Add constant hourly load of `100MW` at the electricity bus. The name of the load can be `electricity_load`"
   ]
  },
  {
   "cell_type": "code",
   "execution_count": null,
   "metadata": {},
   "outputs": [],
   "source": [
    "network.add(class_name=???, name=\"electricity_load\", bus=???, p_set=???)"
   ]
  },
  {
   "cell_type": "markdown",
   "metadata": {},
   "source": [
    "Add a wind generator at the electricity bus with a initial capacity of `100MW`, maximum capacity of `500MW`, and marginal cost of `0$/MWh` into the network? The name of the generator can be `onshore_wind`. "
   ]
  },
  {
   "cell_type": "code",
   "execution_count": null,
   "metadata": {},
   "outputs": [],
   "source": [
    "network.add(\n",
    "      class_name=\"Generator\", \n",
    "      name=\"onshore_wind\",\n",
    "      bus=???,\n",
    "      carrier=???,\n",
    "      p_nom_extendable=True,\n",
    "      ???=100, # MW\n",
    "      ???=500, # MW\n",
    "      ???=0, #$/MWh\n",
    "      p_max_pu=wind_profile\n",
    ")"
   ]
  },
  {
   "cell_type": "markdown",
   "metadata": {},
   "source": [
    "Add a hydro generator at the electricity bus with a constant capacity of `200MW`, and marginal cost of `0$/MWh` into the network? The name of the generator can be `hydro_dam`. "
   ]
  },
  {
   "cell_type": "code",
   "execution_count": null,
   "metadata": {},
   "outputs": [],
   "source": [
    "network.add(\n",
    "      class_name=\"Generator\", \n",
    "      name=\"hydro_dam\",\n",
    "      bus=???,\n",
    "      carrier=???,\n",
    "      p_nom_extendable=False,\n",
    "      ???=200, # MW\n",
    "      ???=0, #$/MWh\n",
    ")"
   ]
  },
  {
   "cell_type": "markdown",
   "metadata": {},
   "source": [
    "Now try to solve your network"
   ]
  },
  {
   "cell_type": "code",
   "execution_count": null,
   "metadata": {},
   "outputs": [],
   "source": [
    "# Solve network using cbc solver\n",
    "network.optimize(pyomo=False, solver_name=\"cbc\")"
   ]
  },
  {
   "cell_type": "markdown",
   "metadata": {},
   "source": [
    "Lets look at some results! Back to read the docs. How would you look at results?"
   ]
  },
  {
   "cell_type": "code",
   "execution_count": null,
   "metadata": {},
   "outputs": [],
   "source": [
    "???"
   ]
  },
  {
   "cell_type": "markdown",
   "metadata": {},
   "source": [
    "Ending of check-point 1 - export network"
   ]
  },
  {
   "cell_type": "code",
   "execution_count": null,
   "metadata": {},
   "outputs": [],
   "source": [
    "# Export network\n",
    "network.export_to_netcdf(\"../results/network_d2_e1-1.nc\")"
   ]
  },
  {
   "cell_type": "code",
   "execution_count": null,
   "metadata": {},
   "outputs": [],
   "source": []
  }
 ],
 "metadata": {
  "kernelspec": {
   "display_name": "pypsa-agora-lcoh",
   "language": "python",
   "name": "python3"
  },
  "language_info": {
   "codemirror_mode": {
    "name": "ipython",
    "version": 3
   },
   "file_extension": ".py",
   "mimetype": "text/x-python",
   "name": "python",
   "nbconvert_exporter": "python",
   "pygments_lexer": "ipython3",
   "version": "3.10.8"
  },
  "orig_nbformat": 4
 },
 "nbformat": 4,
 "nbformat_minor": 2
}
