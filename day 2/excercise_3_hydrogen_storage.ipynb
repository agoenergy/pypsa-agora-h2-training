{
 "cells": [
  {
   "cell_type": "code",
   "execution_count": null,
   "metadata": {},
   "outputs": [],
   "source": [
    "import pypsa\n",
    "import pandas as pd\n",
    "import numpy as np\n",
    "import os"
   ]
  },
  {
   "cell_type": "code",
   "execution_count": null,
   "metadata": {},
   "outputs": [],
   "source": [
    "solver = \"cbc\""
   ]
  },
  {
   "cell_type": "markdown",
   "metadata": {},
   "source": [
    "*** \n",
    "Check-point 1:\n",
    "\n",
    "**Build a network in PyPSA with two nodes (`bus`) and following components to build a simple green hydrogen production system:**\n",
    "\n",
    "1. An `Hydrogen` bus with hydrogen as `carrier`.\n",
    "   1. A hydrogen demand load inside this bus.\n",
    "2. A `Hydrogen_storage` bus with hydrogen as `carrier`.\n",
    "   1. A hydrogen store inside this bus.\n",
    "3. A bidirection link to transfar the hydrogen between hydrogen and hydrogen storage buses.\n",
    "\n",
    "\n",
    "**For simplicity, we assume the hydrogen demand profile to be flat for now. As help you should have a look at the [PyPSA documentation](https://pypsa-readthedocs.readthedocs.io/en/readthedocs/index.html) and the [minimal lopf example](https://www.pypsa.org/examples/minimal_example_lopf.html), understand what the [components documentation](https://pypsa-readthedocs.readthedocs.io/en/readthedocs/components.html) of PyPSA gives you and that you can find the underlying objective function and constraints in the [LOPF documentation](https://pypsa-readthedocs.readthedocs.io/en/readthedocs/optimal_power_flow.html).**\n",
    "\n",
    "\n",
    "> **Remarks:** For time reasons, you do not have to build the network from scratch. However, to get you acquainted with PyPSA we have omitted a few elements or some of the parameters of the network marked by three question marks `???`. Either, you have to add an element similar to the one in the box above or add a few parameters."
   ]
  },
  {
   "cell_type": "markdown",
   "metadata": {},
   "source": [
    "#### Initialize network"
   ]
  },
  {
   "cell_type": "code",
   "execution_count": null,
   "metadata": {},
   "outputs": [],
   "source": [
    "# Create empty PyPSA network\n",
    "network = pypsa.Network()"
   ]
  },
  {
   "cell_type": "code",
   "execution_count": null,
   "metadata": {},
   "outputs": [],
   "source": [
    "# Set snapshots to the year 2023 and at hourly resolution\n",
    "snapshots = pd.date_range(???, ???, freq=???, inclusive=???)\n",
    "network.set_snapshots(snapshots)"
   ]
  },
  {
   "cell_type": "markdown",
   "metadata": {},
   "source": [
    "Add an `hydrogen` bus with hydrogen as `carrier`"
   ]
  },
  {
   "cell_type": "code",
   "execution_count": null,
   "metadata": {},
   "outputs": [],
   "source": [
    "???"
   ]
  },
  {
   "cell_type": "markdown",
   "metadata": {},
   "source": [
    "Add an `hydrogen_storage` bus with hydrogen as `carrier`"
   ]
  },
  {
   "cell_type": "code",
   "execution_count": null,
   "metadata": {},
   "outputs": [],
   "source": [
    "network.add(class_name=\"Bus\", name=???, carrier=\"hydrogen\")"
   ]
  },
  {
   "cell_type": "markdown",
   "metadata": {},
   "source": [
    "Add constant hourly hydrogen load of `10MW` at the hydrogen bus. The name of the load can be `hydroge_load`"
   ]
  },
  {
   "cell_type": "code",
   "execution_count": null,
   "metadata": {},
   "outputs": [],
   "source": [
    "???"
   ]
  },
  {
   "cell_type": "markdown",
   "metadata": {},
   "source": [
    "Add a store at the hydrogen_storage bus with a initial energy capacity of `87600MWh`, and marginal cost of `0$/MWh` into the network? The name of the store can be `hydrogen_tank`. "
   ]
  },
  {
   "cell_type": "code",
   "execution_count": null,
   "metadata": {},
   "outputs": [],
   "source": [
    "network.add(\n",
    "      class_name=\"Store\",\n",
    "      name=\"hydrogen_tank\",\n",
    "      bus=???,\n",
    "      carrier=???,\n",
    "      e_nom_extendable=True,\n",
    "      e_cyclic=False,\n",
    "      ???=87600, # MWh\n",
    "      ???=0, #$/MWh\n",
    "      )"
   ]
  },
  {
   "cell_type": "markdown",
   "metadata": {},
   "source": [
    "Add a bidirectional link, representing the hydrogen charging and discharging between hydrogen and hydrogen_storage with marginal cost of `0$/MWh` into the network? The name of the link can be `hydrogen_flow`. "
   ]
  },
  {
   "cell_type": "code",
   "execution_count": null,
   "metadata": {},
   "outputs": [],
   "source": [
    "network.add(\n",
    "      class_name=\"Link\",\n",
    "      name=\"hydrogen_flow\",\n",
    "      bus0=???,\n",
    "      bus1=???,\n",
    "      p_nom_extendable=True,\n",
    "      ???=0, #$/MWh\n",
    "      efficiency=1,\n",
    "      p_min_pu=-1\n",
    "      )"
   ]
  },
  {
   "cell_type": "markdown",
   "metadata": {},
   "source": [
    "Now try to solve your network"
   ]
  },
  {
   "cell_type": "code",
   "execution_count": null,
   "metadata": {},
   "outputs": [],
   "source": [
    "# Solve network using cbc solver\n",
    "network.optimize(pyomo=False, solver_name=\"cbc\")"
   ]
  },
  {
   "cell_type": "markdown",
   "metadata": {},
   "source": [
    "Lets look at some results! Back to read the docs. How would you look at results?"
   ]
  },
  {
   "cell_type": "code",
   "execution_count": null,
   "metadata": {},
   "outputs": [],
   "source": [
    "# Inspect the change of energy capacity in hydrogen_tank store to supply loads\n",
    "???"
   ]
  },
  {
   "cell_type": "code",
   "execution_count": null,
   "metadata": {},
   "outputs": [],
   "source": [
    "# Inspect the change of power capacity in hydrogen_tank store to supply loads\n",
    "???"
   ]
  },
  {
   "cell_type": "code",
   "execution_count": null,
   "metadata": {},
   "outputs": [],
   "source": [
    "# Inspect the charging flow\n",
    "???"
   ]
  },
  {
   "cell_type": "markdown",
   "metadata": {},
   "source": [
    "Ending of check-point 1 - export network"
   ]
  },
  {
   "cell_type": "code",
   "execution_count": null,
   "metadata": {},
   "outputs": [],
   "source": [
    "# Export network\n",
    "network.export_to_netcdf(\"../results/network_d2_e3-1.nc\")"
   ]
  },
  {
   "cell_type": "code",
   "execution_count": null,
   "metadata": {},
   "outputs": [],
   "source": []
  }
 ],
 "metadata": {
  "kernelspec": {
   "display_name": "Python 3.11.10 ('pypsa-agora')",
   "language": "python",
   "name": "python3"
  },
  "language_info": {
   "codemirror_mode": {
    "name": "ipython",
    "version": 3
   },
   "file_extension": ".py",
   "mimetype": "text/x-python",
   "name": "python",
   "nbconvert_exporter": "python",
   "pygments_lexer": "ipython3",
   "version": "3.11.10"
  },
  "orig_nbformat": 4,
  "vscode": {
   "interpreter": {
    "hash": "d33265b03f0fd43aaae402ef36c78c0dc6832657a131e746ad77efa446788bb3"
   }
  }
 },
 "nbformat": 4,
 "nbformat_minor": 2
}
