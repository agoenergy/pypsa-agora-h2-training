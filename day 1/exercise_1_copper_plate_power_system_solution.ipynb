{
 "cells": [
  {
   "cell_type": "code",
   "execution_count": null,
   "metadata": {},
   "outputs": [],
   "source": [
    "import pypsa\n",
    "import pandas as pd\n",
    "import numpy as np\n",
    "import matplotlib as plt"
   ]
  },
  {
   "cell_type": "code",
   "execution_count": null,
   "metadata": {},
   "outputs": [],
   "source": [
    "solver = \"cbc\""
   ]
  },
  {
   "cell_type": "markdown",
   "metadata": {},
   "source": [
    "*** \n",
    "Check-point 1:\n",
    "\n",
    "**Build a network in PyPSA with one node (`bus`) named \"Utopia\" and attach an electricity load (`load`) to it. For simplicity, we assume the load profile to be flat for now. Afterwards, we want to supply electricity by attaching one gas-fired power plant implemented as (`generator`) (you have to call [`network.set_snapshots`](https://pypsa.readthedocs.io/en/latest/api/_source/pypsa.Network.set_snapshots.html) to select a year). As help you should have a look at the [PyPSA documentation](https://pypsa.readthedocs.io/en/latest/) and the [minimal lopf example](https://www.pypsa.org/examples/minimal_example_lopf.html), understand what the [components documentation](https://pypsa.readthedocs.io/en/latest/user-guide/components.html) of PyPSA gives you and that you can find the underlying objective function and constraints in the [LOPF documentation](https://pypsa-readthedocs.readthedocs.io/en/readthedocs/optimal_power_flow.html).**\n",
    "\n",
    "> **Remarks:** For time reasons, you do not have to build the network from scratch. However, to get you acquainted with PyPSA we have omitted a few elements or some of the parameters of the network marked by three question marks `???`. Either, you have to add an element similar to the one in the box above or add a few parameters."
   ]
  },
  {
   "cell_type": "markdown",
   "metadata": {},
   "source": [
    "#### Initialize network"
   ]
  },
  {
   "cell_type": "code",
   "execution_count": null,
   "metadata": {},
   "outputs": [],
   "source": [
    "# Create empty PyPSA network\n",
    "network = pypsa.Network()"
   ]
  },
  {
   "cell_type": "code",
   "execution_count": null,
   "metadata": {},
   "outputs": [],
   "source": [
    "# Set snapshots to the year 2023 and at hourly resolution\n",
    "snapshots = pd.date_range(\"01-01-2023\", \"01-01-2024\", freq=\"H\", inclusive=\"left\")\n",
    "network.set_snapshots(snapshots)"
   ]
  },
  {
   "cell_type": "code",
   "execution_count": null,
   "metadata": {},
   "outputs": [],
   "source": [
    "network.snapshots"
   ]
  },
  {
   "cell_type": "markdown",
   "metadata": {},
   "source": [
    "Add `Utopia` bus with electricity as `carrier`"
   ]
  },
  {
   "cell_type": "code",
   "execution_count": null,
   "metadata": {},
   "outputs": [],
   "source": [
    "network.add(class_name=\"Bus\", name=\"electricity\")"
   ]
  },
  {
   "cell_type": "code",
   "execution_count": null,
   "metadata": {},
   "outputs": [],
   "source": [
    "network.buses"
   ]
  },
  {
   "cell_type": "markdown",
   "metadata": {},
   "source": [
    "Add constant hourly electricity load of `100MW`"
   ]
  },
  {
   "cell_type": "code",
   "execution_count": null,
   "metadata": {},
   "outputs": [],
   "source": [
    "network.add(class_name=\"Load\", bus='electricity', name=\"electricity_load\", p_set=100)"
   ]
  },
  {
   "cell_type": "code",
   "execution_count": null,
   "metadata": {},
   "outputs": [],
   "source": [
    "network.loads"
   ]
  },
  {
   "cell_type": "markdown",
   "metadata": {},
   "source": [
    "Add a gas-fired power plant at the electricity bus with a capacity of `200MW` and marginal cost of `20$/MWh` to the network."
   ]
  },
  {
   "cell_type": "code",
   "execution_count": null,
   "metadata": {},
   "outputs": [],
   "source": [
    "# Creating a gas-fired power plant\n",
    "network.add(\n",
    "    class_name=\"Generator\",\n",
    "    name=\"gas_power_plant\",\n",
    "    bus='electricity',\n",
    "    carrier=\"gas\",\n",
    "    p_nom=200, # unit: MW\n",
    "    marginal_cost=20,  # unit: $/MWh\n",
    ")\n"
   ]
  },
  {
   "cell_type": "markdown",
   "metadata": {},
   "source": [
    "Now try to solve your network"
   ]
  },
  {
   "cell_type": "code",
   "execution_count": null,
   "metadata": {},
   "outputs": [],
   "source": [
    "# Solve network using cbc solver\n",
    "network.optimize(solver_name=solver)"
   ]
  },
  {
   "cell_type": "markdown",
   "metadata": {},
   "source": [
    "Lets look at some results! Back to read the docs. How would you look at results?"
   ]
  },
  {
   "cell_type": "code",
   "execution_count": null,
   "metadata": {},
   "outputs": [],
   "source": [
    "network.buses_t.marginal_price.head()"
   ]
  },
  {
   "cell_type": "code",
   "execution_count": null,
   "metadata": {},
   "outputs": [],
   "source": [
    "network.generators_t.p.head()"
   ]
  },
  {
   "cell_type": "markdown",
   "metadata": {},
   "source": [
    "Ending of check-point 1 - export network"
   ]
  },
  {
   "cell_type": "code",
   "execution_count": null,
   "metadata": {},
   "outputs": [],
   "source": [
    "# Export network\n",
    "network.export_to_netcdf(\"../results/network_d1_e1-1.nc\")"
   ]
  },
  {
   "cell_type": "markdown",
   "metadata": {},
   "source": [
    "***\n",
    "Check-point 2:\n",
    "\n",
    "**Remove the generator from the previous exercise and replace it with two actual power plants: one nuclear and one gas-fired. The annualized capital costs and marginal costs for these plants should be calculated using the provided input parameters. Instead of setting the plant capacities exogenously, allow the model to determine the optimal capacities based on the LOPF.**"
   ]
  },
  {
   "cell_type": "markdown",
   "metadata": {},
   "source": [
    "Beginning"
   ]
  },
  {
   "cell_type": "code",
   "execution_count": null,
   "metadata": {},
   "outputs": [],
   "source": [
    "# Import check-point 1 network\n",
    "network = pypsa.Network(\"../results/network_d1_e1-1.nc\")"
   ]
  },
  {
   "cell_type": "code",
   "execution_count": null,
   "metadata": {},
   "outputs": [],
   "source": [
    "# remove generator from previous check-point\n",
    "network.remove(class_name=\"Generator\", name=\"gas_power_plant\")"
   ]
  },
  {
   "cell_type": "code",
   "execution_count": null,
   "metadata": {},
   "outputs": [],
   "source": [
    "network.generators"
   ]
  },
  {
   "cell_type": "code",
   "execution_count": null,
   "metadata": {},
   "outputs": [],
   "source": [
    "network.buses"
   ]
  },
  {
   "cell_type": "markdown",
   "metadata": {},
   "source": [
    "Add a nuclear powerplant to your network based on provided CAPEX, FOM, VOM, fuel_cost, efficiency, interest rate and lifetime.\n",
    "\n",
    "> **Source:** all costs for the example are taken from PyPSA's technology database (https://github.com/PyPSA/technology-data)"
   ]
  },
  {
   "cell_type": "code",
   "execution_count": null,
   "metadata": {},
   "outputs": [],
   "source": [
    "# Nuclear power plant techno-economic parameters are given as:\n",
    "lifetime = 40\n",
    "interest = 0.05\n",
    "CAPEX = 9453549 # $/MW\n",
    "FOM = 120060  # $/MW fixed\n",
    "VOM = 3.9 # $/MWh variable\n",
    "fuel_cost = 3.75 # $/MWhth per unit Uranium consumed\n",
    "efficiency = 0.326"
   ]
  },
  {
   "cell_type": "code",
   "execution_count": null,
   "metadata": {},
   "outputs": [],
   "source": [
    "# We need to calculate annualized capital expenditure\n",
    "def calculate_annualised_capex(capex: float, interest: float, lifetime: int):\n",
    "    crf = (\n",
    "        interest * (1 + interest) ** lifetime / ((1 + interest) ** lifetime - 1)\n",
    "    )  # Capital recovery factor\n",
    "    return capex * crf"
   ]
  },
  {
   "cell_type": "code",
   "execution_count": null,
   "metadata": {},
   "outputs": [],
   "source": [
    "annualized_capex = calculate_annualised_capex(CAPEX, interest, lifetime)\n",
    "\n",
    "network.add(\n",
    "    class_name=\"Generator\",\n",
    "    name=\"nuclear_power_plant\",\n",
    "    bus='electricity',\n",
    "    marginal_cost=VOM + fuel_cost/efficiency, #$/MWh\n",
    "    capital_cost= annualized_capex + FOM, #$/MW\n",
    "    p_nom_extendable = True,  # Allow endogenous investment\n",
    "    efficiency=efficiency, \n",
    ")"
   ]
  },
  {
   "cell_type": "code",
   "execution_count": null,
   "metadata": {},
   "outputs": [],
   "source": [
    "network.generators"
   ]
  },
  {
   "cell_type": "markdown",
   "metadata": {},
   "source": [
    "Add a gas-fired power plant to your network"
   ]
  },
  {
   "cell_type": "code",
   "execution_count": null,
   "metadata": {},
   "outputs": [],
   "source": [
    "# Gas-fired power plant techno-economic parameters are given as:\n",
    "lifetime = 25\n",
    "interest = 0.05\n",
    "CAPEX = 995257 # $/MW\n",
    "FOM = 33234 # $/MW fixed\n",
    "VOM = 5  # $/MWh variable\n",
    "fuel_cost = 24.57 # $/MWhth - per unit gas consumed\n",
    "efficiency = 0.57"
   ]
  },
  {
   "cell_type": "code",
   "execution_count": null,
   "metadata": {},
   "outputs": [],
   "source": [
    "annualized_capex = calculate_annualised_capex(CAPEX, interest, lifetime)\n",
    "\n",
    "network.add(\n",
    "    class_name=\"Generator\",\n",
    "    name=\"gas_power_plant\",\n",
    "    bus='electricity',\n",
    "    marginal_cost=VOM + fuel_cost/efficiency, #$/MWh\n",
    "    capital_cost= annualized_capex + FOM, #$/MW\n",
    "    p_nom_extendable = True,  # Allow endogenous investment\n",
    "    efficiency=efficiency, \n",
    ")"
   ]
  },
  {
   "cell_type": "code",
   "execution_count": null,
   "metadata": {},
   "outputs": [],
   "source": [
    "network.generators"
   ]
  },
  {
   "cell_type": "markdown",
   "metadata": {},
   "source": [
    "Ending of check-point 2 - Solve network, analyse results and export network"
   ]
  },
  {
   "cell_type": "code",
   "execution_count": null,
   "metadata": {},
   "outputs": [],
   "source": [
    "# Solve network using cbc solver\n",
    "network.optimize(solver_name=solver)"
   ]
  },
  {
   "cell_type": "markdown",
   "metadata": {},
   "source": [
    "Look at your results! "
   ]
  },
  {
   "cell_type": "code",
   "execution_count": null,
   "metadata": {},
   "outputs": [],
   "source": [
    "network.generators['p_nom_opt']"
   ]
  },
  {
   "cell_type": "code",
   "execution_count": null,
   "metadata": {},
   "outputs": [],
   "source": [
    "network.generators_t.p.head()"
   ]
  },
  {
   "cell_type": "code",
   "execution_count": null,
   "metadata": {},
   "outputs": [],
   "source": [
    "# Export network\n",
    "network.export_to_netcdf(\"../results/network_d1_e1-2.nc\")"
   ]
  },
  {
   "cell_type": "markdown",
   "metadata": {},
   "source": [
    "***\n",
    "Check-point 3:\n",
    "\n",
    "**Add a VRE power plant to the network: Solar PV with extendable capacity.**\n",
    "\n",
    "**Hint:** Solar PV can only provide electricity during day time and its generation pattern depends on solar irradiation**"
   ]
  },
  {
   "cell_type": "code",
   "execution_count": null,
   "metadata": {},
   "outputs": [],
   "source": [
    "# Import check-point 2 network\n",
    "network = pypsa.Network(\"../results/network_d1_e1-2.nc\")"
   ]
  },
  {
   "cell_type": "code",
   "execution_count": null,
   "metadata": {},
   "outputs": [],
   "source": [
    "network.generators[['capital_cost', 'marginal_cost', 'p_nom_extendable']]"
   ]
  },
  {
   "cell_type": "markdown",
   "metadata": {},
   "source": [
    "Import an example solar daily availability and assume same pattern throughout the year"
   ]
  },
  {
   "cell_type": "code",
   "execution_count": null,
   "metadata": {},
   "outputs": [],
   "source": [
    "# Import an example daily pattern\n",
    "solar_pattern = pd.read_csv(\"../data/weather data/example_solar_daily_pattern.csv\")[\"daily pattern\"]\n",
    "# annual time-series availability of solar farm(just a simplified example)\n",
    "yearly_avail = pd.Series(list(solar_pattern) *365, index=network.snapshots)"
   ]
  },
  {
   "cell_type": "code",
   "execution_count": null,
   "metadata": {},
   "outputs": [],
   "source": [
    "yearly_avail.head(24).plot()"
   ]
  },
  {
   "cell_type": "markdown",
   "metadata": {},
   "source": [
    "Add a solar farm to your network"
   ]
  },
  {
   "cell_type": "code",
   "execution_count": null,
   "metadata": {},
   "outputs": [],
   "source": [
    "# Solar farm techno-economic parameters are given as:\n",
    "lifetime = 37.5\n",
    "interest = 0.05\n",
    "CAPEX = 744227  # $/MW\n",
    "FOM = 12856.5  # $/MW fixed\n",
    "VOM = 0.0106  # $/MWh variable\n",
    "fuel_cost = 0  # per unit of sun consumed"
   ]
  },
  {
   "cell_type": "code",
   "execution_count": null,
   "metadata": {},
   "outputs": [],
   "source": [
    "annualized_capex = calculate_annualised_capex(capex=CAPEX, interest=interest, lifetime=lifetime)\n",
    "\n",
    "network.add(\n",
    "    class_name=\"Generator\",\n",
    "    name=\"solar_farm\",\n",
    "    bus='electricity',\n",
    "    marginal_cost=VOM,\n",
    "    capital_cost=annualized_capex,\n",
    "    p_nom_extendable=True,\n",
    "    p_max_pu=yearly_avail,  # Solar farm availability\n",
    ")"
   ]
  },
  {
   "cell_type": "markdown",
   "metadata": {},
   "source": [
    "Ending of check-point 3 - Solve network, analyse results and export network"
   ]
  },
  {
   "cell_type": "code",
   "execution_count": null,
   "metadata": {},
   "outputs": [],
   "source": [
    "# Solve network using cbc solver\n",
    "network.optimize(solver_name=solver)"
   ]
  },
  {
   "cell_type": "code",
   "execution_count": null,
   "metadata": {},
   "outputs": [],
   "source": [
    "# Inspect solar farm interaction with other powerplants to supply loads\n",
    "network.generators['p_nom_opt']"
   ]
  },
  {
   "cell_type": "code",
   "execution_count": null,
   "metadata": {},
   "outputs": [],
   "source": [
    "gen = network.generators_t.p\n",
    "gen[['solar_farm', 'gas_power_plant']].head(50).plot(kind='area', stacked=True)"
   ]
  },
  {
   "cell_type": "code",
   "execution_count": null,
   "metadata": {},
   "outputs": [],
   "source": [
    "network.buses_t.marginal_price['electricity'].sort_values(ascending=False)"
   ]
  },
  {
   "cell_type": "code",
   "execution_count": null,
   "metadata": {},
   "outputs": [],
   "source": [
    "# Exporting check-point 3 network\n",
    "network.export_to_netcdf(\"../results/network_d1_e1-3.nc\")"
   ]
  },
  {
   "cell_type": "code",
   "execution_count": null,
   "metadata": {},
   "outputs": [],
   "source": []
  }
 ],
 "metadata": {
  "kernelspec": {
   "display_name": "pypsa-agora-h2",
   "language": "python",
   "name": "python3"
  },
  "language_info": {
   "codemirror_mode": {
    "name": "ipython",
    "version": 3
   },
   "file_extension": ".py",
   "mimetype": "text/x-python",
   "name": "python",
   "nbconvert_exporter": "python",
   "pygments_lexer": "ipython3",
   "version": "3.11.10"
  }
 },
 "nbformat": 4,
 "nbformat_minor": 2
}
