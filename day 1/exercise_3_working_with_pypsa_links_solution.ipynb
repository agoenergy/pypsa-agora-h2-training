{
 "cells": [
  {
   "cell_type": "code",
   "execution_count": null,
   "metadata": {},
   "outputs": [],
   "source": [
    "import pypsa\n",
    "import pandas as pd\n",
    "import numpy as np"
   ]
  },
  {
   "cell_type": "code",
   "execution_count": null,
   "metadata": {},
   "outputs": [],
   "source": [
    "solver = \"cbc\""
   ]
  },
  {
   "cell_type": "markdown",
   "metadata": {},
   "source": [
    "In this exercise, we will working with `link` component in PyPSA and go through different applications of links. The exercise consists of three main checkpoints:\n",
    "- Simulating energy flow between two buses with link\n",
    "- Simulating energy carrier conversion in PyPSA\n",
    "- Simulating infrastructure with multiple outputs using customised link"
   ]
  },
  {
   "cell_type": "markdown",
   "metadata": {},
   "source": [
    "*** \n",
    "Check-point 1:\n",
    "\n",
    "**Simulating energy flow between two buses with link**\n",
    "\n",
    "*Build a network in PyPSA with the two buses North and South and attach the `100MW` electricity load at each bus. North bus is attached with a `gas_power_plant`, while South is attached by a `solar farm` with flexible capacities. All plants' techno-economic parameters are provided. Afterward, use `link` to connect the two buses and observe the power exchange between two buses.*\n",
    "\n",
    "<img src=\"d1_e3-1.svg\" width=500/>"
   ]
  },
  {
   "cell_type": "markdown",
   "metadata": {},
   "source": [
    "Initialize network"
   ]
  },
  {
   "cell_type": "code",
   "execution_count": null,
   "metadata": {},
   "outputs": [],
   "source": [
    "# Create empty PyPSA network\n",
    "network = pypsa.Network()\n",
    "# Set snapshots to the year 2023 and at hourly resolution\n",
    "snapshots = pd.date_range(\"01-01-2023\", \"01-01-2024\", freq=\"H\", inclusive=\"left\")\n",
    "network.set_snapshots(snapshots)\n",
    "network.snapshots"
   ]
  },
  {
   "cell_type": "markdown",
   "metadata": {},
   "source": [
    "Add bus `North` and `South` to the network"
   ]
  },
  {
   "cell_type": "code",
   "execution_count": null,
   "metadata": {},
   "outputs": [],
   "source": [
    "network.add(class_name=\"Bus\", name=\"north\", carrier=\"Electricity\")\n",
    "\n",
    "network.add(class_name=\"Bus\", name=\"south\", carrier=\"Electricity\")"
   ]
  },
  {
   "cell_type": "markdown",
   "metadata": {},
   "source": [
    "Add `200MW` load to each bus"
   ]
  },
  {
   "cell_type": "code",
   "execution_count": null,
   "metadata": {},
   "outputs": [],
   "source": [
    "# You can 'madd' instead of 'add' to add multiple components at once\n",
    "network.madd(\n",
    "    class_name=\"Load\",\n",
    "    names=[\"north_elec_load\", \"south_elec_load\"],\n",
    "    bus=[\"north\", \"south\"],\n",
    "    p_set=[200, 200],\n",
    ")"
   ]
  },
  {
   "cell_type": "markdown",
   "metadata": {},
   "source": [
    "Add power plants to each bus"
   ]
  },
  {
   "cell_type": "code",
   "execution_count": null,
   "metadata": {},
   "outputs": [],
   "source": [
    "# We need to calculate annualized capital expenditure\n",
    "def calculate_annualised_capex(capex: float, interest: float, lifetime: int):\n",
    "    crf = (\n",
    "        interest * (1 + interest) ** lifetime / ((1 + interest) ** lifetime - 1)\n",
    "    )  # Capital recovery factor\n",
    "    return capex * crf"
   ]
  },
  {
   "cell_type": "code",
   "execution_count": null,
   "metadata": {},
   "outputs": [],
   "source": [
    "# Techno-economic parameters of the gas-fired combined cycle power plant (CCGT):\n",
    "lifetime = 25  # years\n",
    "interest = 0.05  # unit: -\n",
    "CAPEX = 904779  # $/MW\n",
    "FOM = 0.0334 * CAPEX  # $/MW per year (3.34% of CAPEX)\n",
    "VOM = 4.55  # $/MWh variable\n",
    "fuel_cost = 24.57  # $/MWh_th per unit gas consumed\n",
    "efficiency = 0.57"
   ]
  },
  {
   "cell_type": "code",
   "execution_count": null,
   "metadata": {},
   "outputs": [],
   "source": [
    "annualized_capex = calculate_annualised_capex(CAPEX, interest, lifetime)\n",
    "\n",
    "network.add(\n",
    "    class_name=\"Generator\",\n",
    "    name=\"gas_power_plant\",\n",
    "    bus=\"north\",\n",
    "    marginal_cost=VOM + fuel_cost / efficiency,  # $/MWh\n",
    "    capital_cost=annualized_capex + FOM,  # $/MW\n",
    "    p_nom_extendable=True,  # Allow endogenous investment\n",
    "    efficiency=efficiency,\n",
    ")"
   ]
  },
  {
   "cell_type": "code",
   "execution_count": null,
   "metadata": {},
   "outputs": [],
   "source": [
    "# Import an example daily pattern\n",
    "solar_pattern = pd.read_csv(\"../data/weather data/example_solar_daily_pattern.csv\")[\n",
    "    \"daily pattern\"\n",
    "]\n",
    "# annual time-series availability of solar farm (just a simplified example)\n",
    "yearly_avail = pd.Series(list(solar_pattern) * 365, index=network.snapshots)"
   ]
  },
  {
   "cell_type": "code",
   "execution_count": null,
   "metadata": {},
   "outputs": [],
   "source": [
    "# Techno-economic parameters of the solar farm:\n",
    "lifetime = 37.5  # years\n",
    "interest = 0.05  # unit: -\n",
    "CAPEX = 676570  # $/MW\n",
    "FOM = 0.017275 * CAPEX  # $/MW per year (1.7275% of CAPEX)\n",
    "VOM = 0.0106  # $/MWh\n",
    "fuel_cost = 0  # per unit of solar irradiation consumed"
   ]
  },
  {
   "cell_type": "code",
   "execution_count": null,
   "metadata": {},
   "outputs": [],
   "source": [
    "annualized_capex = calculate_annualised_capex(\n",
    "    capex=CAPEX, interest=interest, lifetime=lifetime\n",
    ")\n",
    "\n",
    "network.add(\n",
    "    class_name=\"Generator\",\n",
    "    name=\"solar_farm\",\n",
    "    bus=\"south\",\n",
    "    marginal_cost=VOM,\n",
    "    capital_cost=annualized_capex + FOM,\n",
    "    p_nom_extendable=True,  # Allow endogenous investment\n",
    "    p_max_pu=yearly_avail,  # Solar farm availability\n",
    ")"
   ]
  },
  {
   "cell_type": "markdown",
   "metadata": {},
   "source": [
    "Add a bi-directional link between `North` and `South`"
   ]
  },
  {
   "cell_type": "code",
   "execution_count": null,
   "metadata": {},
   "outputs": [],
   "source": [
    "network.add(\n",
    "    class_name=\"Link\",\n",
    "    name=\"north_to_south_transmission\",\n",
    "    bus0=\"north\",\n",
    "    bus1=\"south\",\n",
    "    p_nom_extendable=True,  # allow flexible capacity expansion\n",
    "    p_min_pu=-1,\n",
    ")  # to allow bi-directional flow"
   ]
  },
  {
   "cell_type": "markdown",
   "metadata": {},
   "source": [
    "Now try to solve the network and check the results"
   ]
  },
  {
   "cell_type": "code",
   "execution_count": null,
   "metadata": {},
   "outputs": [],
   "source": [
    "# Solve network using cbc solver\n",
    "network.optimize(solver_name=solver)"
   ]
  },
  {
   "cell_type": "code",
   "execution_count": null,
   "metadata": {},
   "outputs": [],
   "source": [
    "# inspect transmission capacity\n",
    "network.links[\"p_nom_opt\"]"
   ]
  },
  {
   "cell_type": "code",
   "execution_count": null,
   "metadata": {},
   "outputs": [],
   "source": [
    "# inspect power plants' capacities\n",
    "network.generators[\"p_nom_opt\"]"
   ]
  },
  {
   "cell_type": "code",
   "execution_count": null,
   "metadata": {},
   "outputs": [],
   "source": [
    "# Inspect transmission flow interaction with other power plants to supply loads at north bus\n",
    "north_gen_id = network.generators[network.generators.bus == \"north\"].index\n",
    "north_gen = network.generators_t.p[north_gen_id]\n",
    "# use p1 to show the electricity flowing out from north\n",
    "ntc_flow = network.links_t.p1\n",
    "result = pd.concat([north_gen, ntc_flow], axis=1)\n",
    "# plot the first 2 days\n",
    "result.iloc[:48, :].plot(kind=\"bar\", stacked=True, figsize=(14, 5))"
   ]
  },
  {
   "cell_type": "markdown",
   "metadata": {},
   "source": [
    "Exporting check-point 1 network"
   ]
  },
  {
   "cell_type": "code",
   "execution_count": null,
   "metadata": {},
   "outputs": [],
   "source": [
    "network.export_to_netcdf(\"../results/network_d1_e3-1.nc\")"
   ]
  },
  {
   "cell_type": "markdown",
   "metadata": {},
   "source": [
    "*** \n",
    "Check-point 2:\n",
    "\n",
    "**Simulating energy carrier conversion in PyPSA**\n",
    "\n",
    "*In this exercise, we will simulate a gas-fired power plant using the `link` component instead of the `generator`. To set it up, we will create a theoretical gas supply bus (With theoretical gas supply `generator` attached to it) and connect it to an electricity bus with an electrical load through the `link` component* \n",
    "\n",
    "<img src=\"d1_e3-2.svg\" width=200/>"
   ]
  },
  {
   "cell_type": "markdown",
   "metadata": {},
   "source": [
    "Initialize network"
   ]
  },
  {
   "cell_type": "code",
   "execution_count": null,
   "metadata": {},
   "outputs": [],
   "source": [
    "# Create empty PyPSA network\n",
    "network = pypsa.Network()\n",
    "# Set snapshots to the year 2023 and at hourly resolution\n",
    "snapshots = pd.date_range(\"01-01-2023\", \"01-01-2024\", freq=\"H\", inclusive=\"left\")\n",
    "network.set_snapshots(snapshots)\n",
    "network.snapshots"
   ]
  },
  {
   "cell_type": "markdown",
   "metadata": {},
   "source": [
    "Add electricity bus and `100MW` load "
   ]
  },
  {
   "cell_type": "code",
   "execution_count": null,
   "metadata": {},
   "outputs": [],
   "source": [
    "# add electricity bus\n",
    "network.add(class_name=\"Bus\", name=\"electricity\", carrier=\"electricity\")\n",
    "# add electricity load\n",
    "network.add(class_name=\"Load\", bus=\"electricity\", name=\"electricity_load\", p_set=100)"
   ]
  },
  {
   "cell_type": "markdown",
   "metadata": {},
   "source": [
    "Add theoretical gas bus with a theroretical gas supply `generator` "
   ]
  },
  {
   "cell_type": "code",
   "execution_count": null,
   "metadata": {},
   "outputs": [],
   "source": [
    "# Techno-economic parameters of the gas-fired combined cycle power plant (CCGT):\n",
    "lifetime = 25  # years\n",
    "interest = 0.05  # unit: -\n",
    "CAPEX = 904779  # $/MW\n",
    "FOM = 0.0334 * CAPEX  # $/MW per year (3.34% of CAPEX)\n",
    "VOM = 4.55  # $/MWh variable\n",
    "fuel_cost = 24.57  # $/MWh_th per unit gas consumed\n",
    "efficiency = 0.57"
   ]
  },
  {
   "cell_type": "code",
   "execution_count": null,
   "metadata": {},
   "outputs": [],
   "source": [
    "# add gas bus\n",
    "network.add(class_name=\"Bus\", name=\"gas_hub\", carrier=\"gas\")\n",
    "# add theoretical gas supply generator\n",
    "network.add(\n",
    "    class_name=\"Generator\",\n",
    "    name=\"gas_supply\",\n",
    "    bus=\"gas_hub\",\n",
    "    carrier=\"gas\",\n",
    "    marginal_cost=fuel_cost,  # Cost per thermal unit gas consumed\n",
    "    p_nom_extendable=True,  # assuming unlimited supply\n",
    ")"
   ]
  },
  {
   "cell_type": "markdown",
   "metadata": {},
   "source": [
    "Add link representing gas-fired power plant converting gas into electricity.\n",
    "\n",
    "> Note: The marginal and capital costs in `links` are defined for the inlet bus (`bus0`), before efficiency losses. Therefore, the marginal and capital costs for the gas-fired power plant which are given per unit of produced electricity, should be converted into the costs per unit of supplied gas by multiplying to the efficiency.\n"
   ]
  },
  {
   "cell_type": "code",
   "execution_count": null,
   "metadata": {},
   "outputs": [],
   "source": [
    "annualized_capex = calculate_annualised_capex(\n",
    "    capex=CAPEX, interest=interest, lifetime=lifetime\n",
    ")\n",
    "network.add(\n",
    "    class_name=\"Link\",\n",
    "    name=\"gas_power_plant\",\n",
    "    bus0=\"gas_hub\",\n",
    "    bus1=\"electricity\",\n",
    "    marginal_cost=VOM\n",
    "    * efficiency,  # All cost input attributes have to be converted from elec to thermal by multiplying efficiency.\n",
    "    capital_cost=(annualized_capex + FOM)\n",
    "    * efficiency,  # All cost input attributes have to be converted from elec to thermal by multiplying efficiency\n",
    "    # p_nom = 100 / efficiency, # All capacity input attributes have to be converted from elec to thermal by dividing efficiency\n",
    "    p_nom_extendable=True,\n",
    "    efficiency=efficiency,\n",
    ")"
   ]
  },
  {
   "cell_type": "markdown",
   "metadata": {},
   "source": [
    "Now try to solve the network and check the results"
   ]
  },
  {
   "cell_type": "code",
   "execution_count": null,
   "metadata": {},
   "outputs": [],
   "source": [
    "# Solve network using cbc solver\n",
    "network.optimize(solver_name=solver)"
   ]
  },
  {
   "cell_type": "code",
   "execution_count": null,
   "metadata": {},
   "outputs": [],
   "source": [
    "# inspect gas plant capacity\n",
    "network.links[\"p_nom_opt\"].mul(\n",
    "    network.links[\"efficiency\"]\n",
    ")  # converting back from thermal to electricity"
   ]
  },
  {
   "cell_type": "code",
   "execution_count": null,
   "metadata": {},
   "outputs": [],
   "source": [
    "-network.links_t.p1.round()"
   ]
  },
  {
   "cell_type": "markdown",
   "metadata": {},
   "source": [
    "Exporting check-point 2 network"
   ]
  },
  {
   "cell_type": "code",
   "execution_count": null,
   "metadata": {},
   "outputs": [],
   "source": [
    "network.export_to_netcdf(\"../results/network_d1_e3-2.nc\")"
   ]
  },
  {
   "cell_type": "markdown",
   "metadata": {},
   "source": [
    "*** \n",
    "Check-point 3:\n",
    "\n",
    "**Simulating infrastructure with multiple outputs using customised link**\n",
    "\n",
    "*A `link` component in PyPSA can be configured to support multiple outputs. In this exercise, we will modify the gas_power_plant from the previous task to simulate and account for its CO2 emission releasing to the atmosphere as a secondary output alongside electricity generation.*\n",
    "\n",
    "> **Hint:** Links can also be defined with multiple outputs in fixed ratio to the power in the single input by defining new columns bus2, bus3, etc. in network.links along with associated columns for efficiency2, efficiency3, etc. The different outputs are then equal to the input multiplied by the corresponding efficiency. For more information about this, checkout [PyPSA documentation about multi-link](https://pypsa.readthedocs.io/en/latest/user-guide/components.html#multilink)\n",
    "\n",
    "<img src=\"d1_e3-3.svg\" width=500/>"
   ]
  },
  {
   "cell_type": "markdown",
   "metadata": {},
   "source": [
    "Import check-point 2 network from exercise 3"
   ]
  },
  {
   "cell_type": "code",
   "execution_count": null,
   "metadata": {},
   "outputs": [],
   "source": [
    "network = pypsa.Network(\"../results/network_d1_e3-2.nc\")"
   ]
  },
  {
   "cell_type": "code",
   "execution_count": null,
   "metadata": {},
   "outputs": [],
   "source": [
    "network.links"
   ]
  },
  {
   "cell_type": "markdown",
   "metadata": {},
   "source": [
    "We first need to create an atmosphere bus with a theoretical CO2 storage. When you need a component to store only without discharge, PyPSA `Store` is recommended."
   ]
  },
  {
   "cell_type": "code",
   "execution_count": null,
   "metadata": {},
   "outputs": [],
   "source": [
    "# adding an atmosphere bus\n",
    "network.add(class_name=\"Bus\", name=\"co2_atmosphere\", carrier=\"co2\")\n",
    "\n",
    "# adding theoretical storage to store co2 released to the atmosphere\n",
    "network.add(\n",
    "    class_name=\"Store\",\n",
    "    name=\"co2_atmosphere_storage\",\n",
    "    e_nom_extendable=True,  # allow infinite co2\n",
    "    carrier=\"co2\",\n",
    "    bus=\"co2_atmosphere\",\n",
    ")"
   ]
  },
  {
   "cell_type": "code",
   "execution_count": null,
   "metadata": {},
   "outputs": [],
   "source": [
    "network.buses"
   ]
  },
  {
   "cell_type": "code",
   "execution_count": null,
   "metadata": {},
   "outputs": [],
   "source": [
    "network.links"
   ]
  },
  {
   "cell_type": "markdown",
   "metadata": {},
   "source": [
    "Now we can modify current `gas_power_plant` link to connect it to `co2_atmosphere` with emission factor of `0.2 tCO2/MWh_th` "
   ]
  },
  {
   "cell_type": "code",
   "execution_count": null,
   "metadata": {},
   "outputs": [],
   "source": [
    "# add co2_atmosphere as bus2 of gas link\n",
    "network.links.loc[\"gas_power_plant\", \"bus2\"] = \"co2_atmosphere\"\n",
    "# add emission factor of gas power plant as efficiency2\n",
    "network.links.loc[\"gas_power_plant\", \"efficiency2\"] = 0.2"
   ]
  },
  {
   "cell_type": "code",
   "execution_count": null,
   "metadata": {},
   "outputs": [],
   "source": [
    "network.links"
   ]
  },
  {
   "cell_type": "markdown",
   "metadata": {},
   "source": [
    "Now try to solve the network and check the results"
   ]
  },
  {
   "cell_type": "code",
   "execution_count": null,
   "metadata": {},
   "outputs": [],
   "source": [
    "# Solve network using cbc solver\n",
    "network.optimize(solver_name=solver)"
   ]
  },
  {
   "cell_type": "code",
   "execution_count": null,
   "metadata": {},
   "outputs": [],
   "source": [
    "# How much electricity is produced (transferred to bus1=electricity)?\n",
    "-network.links_t.p1"
   ]
  },
  {
   "cell_type": "markdown",
   "metadata": {},
   "source": [
    "how much CO2 is emitted into the atmosphere (transferred to bus2=co2_atmosphere)"
   ]
  },
  {
   "cell_type": "code",
   "execution_count": null,
   "metadata": {},
   "outputs": [],
   "source": [
    "# Option 1: Using output as energy flow going into bus2\n",
    "-network.links_t.p2[\"gas_power_plant\"].sum()"
   ]
  },
  {
   "cell_type": "code",
   "execution_count": null,
   "metadata": {},
   "outputs": [],
   "source": [
    "# Option 2: Calculating by output of energy flow going out from bus0 * emission factor as efficiency2\n",
    "(\n",
    "    network.links_t.p0[\"gas_power_plant\"]\n",
    "    * network.links.loc[\"gas_power_plant\", \"efficiency2\"]\n",
    ").sum()"
   ]
  },
  {
   "cell_type": "code",
   "execution_count": null,
   "metadata": {},
   "outputs": [],
   "source": [
    "# Option 3: Look at the volume of co2 atmosphere storage\n",
    "network.stores[\"e_nom_opt\"]"
   ]
  },
  {
   "cell_type": "code",
   "execution_count": null,
   "metadata": {},
   "outputs": [],
   "source": [
    "network.export_to_netcdf(\"../results/network_d1_e3-3.nc\")"
   ]
  }
 ],
 "metadata": {
  "kernelspec": {
   "display_name": "pypsa-agora-h2",
   "language": "python",
   "name": "python3"
  },
  "language_info": {
   "codemirror_mode": {
    "name": "ipython",
    "version": 3
   },
   "file_extension": ".py",
   "mimetype": "text/x-python",
   "name": "python",
   "nbconvert_exporter": "python",
   "pygments_lexer": "ipython3",
   "version": "3.11.10"
  }
 },
 "nbformat": 4,
 "nbformat_minor": 2
}
