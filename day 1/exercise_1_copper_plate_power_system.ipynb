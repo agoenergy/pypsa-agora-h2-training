{
 "cells": [
  {
   "cell_type": "code",
   "execution_count": null,
   "metadata": {},
   "outputs": [],
   "source": [
    "import pypsa\n",
    "import pandas as pd\n",
    "import numpy as np"
   ]
  },
  {
   "cell_type": "code",
   "execution_count": null,
   "metadata": {},
   "outputs": [],
   "source": [
    "solver = \"cbc\""
   ]
  },
  {
   "cell_type": "markdown",
   "metadata": {},
   "source": [
    "*** \n",
    "Check-point 1:\n",
    "\n",
    "**Build a network in PyPSA with one node (`bus`) named \"Utopia\" and attach an electricity load (`load`) to it. For simplicity, we assume the load profile to be flat for now. Afterwards, we want to supply electricity by attaching one gas-fired power plant implemented as (`generator`) (you have to call [`network.set_snapshots`](https://pypsa.readthedocs.io/en/latest/api/_source/pypsa.Network.set_snapshots.html) to select a year). As help you should have a look at the [PyPSA documentation](https://pypsa.readthedocs.io/en/latest/index.html) and the [minimal lopf example](https://pypsa.readthedocs.io/en/latest/examples/minimal_example_pf.html), understand what the [components documentation](https://pypsa.readthedocs.io/en/latest/user-guide/components.html) of PyPSA gives you and that you can find the underlying objective function and constraints in the [LOPF documentation](https://pypsa.readthedocs.io/en/latest/user-guide/optimal-power-flow.html).**\n",
    "\n",
    "> **Remarks:** For time reasons, you do not have to build the network from scratch. However, to get you acquainted with PyPSA we have omitted a few elements or some of the parameters of the network marked by three question marks `???`. Either, you have to add an element similar to the one in the box above or add a few parameters."
   ]
  },
  {
   "cell_type": "markdown",
   "metadata": {},
   "source": [
    "#### Initialize network"
   ]
  },
  {
   "cell_type": "code",
   "execution_count": null,
   "metadata": {},
   "outputs": [],
   "source": [
    "# Create empty PyPSA network\n",
    "network = pypsa.Network()"
   ]
  },
  {
   "cell_type": "code",
   "execution_count": null,
   "metadata": {},
   "outputs": [],
   "source": [
    "# Set snapshots to the year 2023 and at hourly resolution\n",
    "snapshots = pd.date_range(???, ???, freq=???, inclusive=???)\n",
    "network.set_snapshots(snapshots)"
   ]
  },
  {
   "cell_type": "markdown",
   "metadata": {},
   "source": [
    "Add `Utopia` bus with electricity as `carrier`"
   ]
  },
  {
   "cell_type": "code",
   "execution_count": null,
   "metadata": {},
   "outputs": [],
   "source": [
    "???"
   ]
  },
  {
   "cell_type": "markdown",
   "metadata": {},
   "source": [
    "Add constant hourly electricity load of `100MW`"
   ]
  },
  {
   "cell_type": "code",
   "execution_count": null,
   "metadata": {},
   "outputs": [],
   "source": [
    "???"
   ]
  },
  {
   "cell_type": "markdown",
   "metadata": {},
   "source": [
    "Add a gas-fired power plant at the electricity bus with a capacity of `200MW` and marginal cost of `20$/MWh` to the network."
   ]
  },
  {
   "cell_type": "code",
   "execution_count": null,
   "metadata": {},
   "outputs": [],
   "source": [
    "# Creating a gas-fired power plant\n",
    "network.add(\n",
    "    class_name=\"Generator\",\n",
    "    name=\"gas_power_plant\",\n",
    "    bus=???,\n",
    "    carrier=\"gas\",\n",
    "    ???=200, # unit: MW\n",
    "    ???=20, # unit: $/MWh\n",
    ")\n"
   ]
  },
  {
   "cell_type": "markdown",
   "metadata": {},
   "source": [
    "Now try to solve your network"
   ]
  },
  {
   "cell_type": "code",
   "execution_count": null,
   "metadata": {},
   "outputs": [],
   "source": [
    "# Solve network using cbc solver\n",
    "network.optimize(solver_name=solver)"
   ]
  },
  {
   "cell_type": "markdown",
   "metadata": {},
   "source": [
    "Lets look at some results! Back to [readthedocs](https://pypsa.readthedocs.io/en/latest/user-guide/components.html#network). How would you look at results?"
   ]
  },
  {
   "cell_type": "code",
   "execution_count": null,
   "metadata": {},
   "outputs": [],
   "source": [
    "???"
   ]
  },
  {
   "cell_type": "markdown",
   "metadata": {},
   "source": [
    "Ending of check-point 1 - export network"
   ]
  },
  {
   "cell_type": "code",
   "execution_count": null,
   "metadata": {},
   "outputs": [],
   "source": [
    "# Export network\n",
    "network.export_to_netcdf(\"../results/network_d1_e1-1.nc\")"
   ]
  },
  {
   "cell_type": "markdown",
   "metadata": {},
   "source": [
    "***\n",
    "Check-point 2:\n",
    "\n",
    "**Remove the generator from the previous exercise and replace it with two actual power plants: one nuclear and one gas-fired. The annualized capital costs and marginal costs for these plants should be calculated using the provided input parameters. Instead of setting the plant capacities exogenously, allow the model to determine the optimal capacities based on the linear optimization problem with power flow (LOPF).**"
   ]
  },
  {
   "cell_type": "markdown",
   "metadata": {},
   "source": [
    "Beginning"
   ]
  },
  {
   "cell_type": "code",
   "execution_count": null,
   "metadata": {},
   "outputs": [],
   "source": [
    "# Import check-point 1 network\n",
    "network = pypsa.Network(\"../results/network_d1_e1-1.nc\")"
   ]
  },
  {
   "cell_type": "code",
   "execution_count": null,
   "metadata": {},
   "outputs": [],
   "source": [
    "# remove generator from previous check-point\n",
    "network.remove(class_name=\"Generator\", name=\"gas_power_plant\")"
   ]
  },
  {
   "cell_type": "markdown",
   "metadata": {},
   "source": [
    "Add a nuclear power plant to your network based on the provided capital expenditure (CAPEX), fixed operation & maintenance cost (FOM), variable operation & maintenance cost (VOM), fuel cost, efficiency, interest rate and lifetime.\n",
    "\n",
    "> **Source:** all costs for the example are taken from [PyPSA's technology database](https://github.com/PyPSA/technology-data/blob/master/outputs/costs_2025.csv)."
   ]
  },
  {
   "cell_type": "code",
   "execution_count": null,
   "metadata": {},
   "outputs": [],
   "source": [
    "# Techno-economic parameters of the nuclear power plant:\n",
    "lifetime = 40  # years\n",
    "interest = 0.05  # unit: -\n",
    "CAPEX = 8594135  # $/MW\n",
    "FOM = 0.0127 * CAPEX  # $/MW per year (1.27% of CAPEX)\n",
    "VOM = 3.55  # $/MWh\n",
    "fuel_cost = 3.41  # $/MWh_th per unit Uranium consumed\n",
    "efficiency = 0.326"
   ]
  },
  {
   "cell_type": "code",
   "execution_count": null,
   "metadata": {},
   "outputs": [],
   "source": [
    "# We need to calculate annualized capital expenditure\n",
    "def calculate_annualised_capex(capex: float, interest: float, lifetime: int):\n",
    "    crf = (\n",
    "        interest * (1 + interest) ** lifetime / ((1 + interest) ** lifetime - 1)\n",
    "    )  # Capital recovery factor\n",
    "    return capex * crf"
   ]
  },
  {
   "cell_type": "code",
   "execution_count": null,
   "metadata": {},
   "outputs": [],
   "source": [
    "annualized_capex = calculate_annualised_capex(CAPEX, interest, lifetime)\n",
    "\n",
    "network.add(\n",
    "    class_name=\"Generator\",\n",
    "    name=\"nuclear_power_plant\",\n",
    "    bus=???,\n",
    "    marginal_cost=???, # $/MWh\n",
    "    capital_cost=???, # $/MW\n",
    "    p_nom_extendable=???,  # Allow endogenous investment\n",
    "    efficiency=efficiency, \n",
    ")"
   ]
  },
  {
   "cell_type": "markdown",
   "metadata": {},
   "source": [
    "Add a gas-fired power plant to your network"
   ]
  },
  {
   "cell_type": "code",
   "execution_count": null,
   "metadata": {},
   "outputs": [],
   "source": [
    "# Techno-economic parameters of the gas-fired combined cycle power plant (CCGT):\n",
    "lifetime = 25  # years\n",
    "interest = 0.05  # unit: -\n",
    "CAPEX = 904779  # $/MW\n",
    "FOM = 0.0334 * CAPEX  # $/MW per year (3.34% of CAPEX)\n",
    "VOM = 4.55  # $/MWh variable\n",
    "fuel_cost = 24.57  # $/MWh_th per unit gas consumed\n",
    "efficiency = 0.57"
   ]
  },
  {
   "cell_type": "code",
   "execution_count": null,
   "metadata": {},
   "outputs": [],
   "source": [
    "???"
   ]
  },
  {
   "cell_type": "markdown",
   "metadata": {},
   "source": [
    "Ending of check-point 2 - Solve network, analyse results and export network"
   ]
  },
  {
   "cell_type": "code",
   "execution_count": null,
   "metadata": {},
   "outputs": [],
   "source": [
    "# Solve network using cbc solver\n",
    "network.optimize(solver_name=solver)"
   ]
  },
  {
   "cell_type": "markdown",
   "metadata": {},
   "source": [
    "Look at your results! "
   ]
  },
  {
   "cell_type": "code",
   "execution_count": null,
   "metadata": {},
   "outputs": [],
   "source": [
    "???"
   ]
  },
  {
   "cell_type": "code",
   "execution_count": null,
   "metadata": {},
   "outputs": [],
   "source": [
    "# Export network\n",
    "network.export_to_netcdf(\"../results/network_d1_e1-2.nc\")"
   ]
  },
  {
   "cell_type": "markdown",
   "metadata": {},
   "source": [
    "***\n",
    "Check-point 3:\n",
    "\n",
    "**Add a Variable Renewable Energy (VRE) power plant to the network: Solar PV with extendable capacity.**\n",
    "\n",
    "**Hint:** Solar PV can only provide electricity during day time and its generation pattern depends on solar irradiation."
   ]
  },
  {
   "cell_type": "code",
   "execution_count": null,
   "metadata": {},
   "outputs": [],
   "source": [
    "# Import check-point 2 network\n",
    "network = pypsa.Network(\"../results/network_d1_e1-2.nc\")"
   ]
  },
  {
   "cell_type": "markdown",
   "metadata": {},
   "source": [
    "Import an example solar daily availability and assume same pattern throughout the year"
   ]
  },
  {
   "cell_type": "code",
   "execution_count": null,
   "metadata": {},
   "outputs": [],
   "source": [
    "# Import an example daily pattern\n",
    "solar_pattern = pd.read_csv(\"../data/weather data/example_solar_daily_pattern.csv\")[\n",
    "    \"daily pattern\"\n",
    "]\n",
    "# annual time-series availability of solar farm(just a simplified example)\n",
    "yearly_avail = pd.Series(list(solar_pattern) * 365, index=network.snapshots)"
   ]
  },
  {
   "cell_type": "markdown",
   "metadata": {},
   "source": [
    "Add a solar farm to your network"
   ]
  },
  {
   "cell_type": "code",
   "execution_count": null,
   "metadata": {},
   "outputs": [],
   "source": [
    "# Techno-economic parameters of the solar farm:\n",
    "lifetime = 37.5  # years\n",
    "interest = 0.05  # unit: -\n",
    "CAPEX = 676570  # $/MW\n",
    "FOM = 0.017275 * CAPEX  # $/MW per year (1.7275% of CAPEX)\n",
    "VOM = 0.0106  # $/MWh\n",
    "fuel_cost = 0  # per unit of solar irradiation consumed"
   ]
  },
  {
   "cell_type": "code",
   "execution_count": null,
   "metadata": {},
   "outputs": [],
   "source": [
    "???\n",
    "\n",
    "network.add(\n",
    "    class_name=\"Generator\",\n",
    "    name=\"solar_farm\",\n",
    "    bus=???,\n",
    "    marginal_cost=???,\n",
    "    capital_cost=???,\n",
    "    ???=True,\n",
    "    ???=yearly_avail, # Solar farm availability\n",
    ")"
   ]
  },
  {
   "cell_type": "markdown",
   "metadata": {},
   "source": [
    "Ending of check-point 3: Solve network, analyze results and export network"
   ]
  },
  {
   "cell_type": "code",
   "execution_count": null,
   "metadata": {},
   "outputs": [],
   "source": [
    "# Solve network using cbc solver\n",
    "network.optimize(solver_name=solver)"
   ]
  },
  {
   "cell_type": "code",
   "execution_count": null,
   "metadata": {},
   "outputs": [],
   "source": [
    "# Inspect solar farm interaction with other power plants to supply loads\n",
    "???"
   ]
  },
  {
   "cell_type": "code",
   "execution_count": null,
   "metadata": {},
   "outputs": [],
   "source": [
    "# Exporting check-point 3 network\n",
    "network.export_to_netcdf(\"../results/network_d1_e1-3.nc\")"
   ]
  }
 ],
 "metadata": {
  "kernelspec": {
   "display_name": "pypsa-agora-h2",
   "language": "python",
   "name": "python3"
  },
  "language_info": {
   "codemirror_mode": {
    "name": "ipython",
    "version": 3
   },
   "file_extension": ".py",
   "mimetype": "text/x-python",
   "name": "python",
   "nbconvert_exporter": "python",
   "pygments_lexer": "ipython3",
   "version": "3.11.10"
  }
 },
 "nbformat": 4,
 "nbformat_minor": 2
}
