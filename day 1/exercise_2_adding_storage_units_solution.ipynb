{
 "cells": [
  {
   "cell_type": "code",
   "execution_count": null,
   "metadata": {},
   "outputs": [],
   "source": [
    "import pypsa\n",
    "import pandas as pd\n",
    "import numpy as np"
   ]
  },
  {
   "cell_type": "code",
   "execution_count": null,
   "metadata": {},
   "outputs": [],
   "source": [
    "solver = \"cbc\""
   ]
  },
  {
   "cell_type": "markdown",
   "metadata": {},
   "source": [
    "*** \n",
    "Check-point 1:\n",
    "\n",
    "**In this exercise, we will import the copper-plate power system from Exercise 1 and integrate a storage into the network. If the system does not activate the storage component, we will explore various solutions to enforce storage behavior within the network.**\n",
    "\n",
    "> **Remarks:** \n",
    "> \n",
    "> - While the exercises focus on electricity storage, the same concepts can be applied to create storage solutions for other energy carriers. \n",
    "> - In these exercises, we will only work with `StorageUnit` component, meaning energy-to-power ratio for storage plant is fixed. To optimize the storage energy capacity independently from the storage power capacity (e.g., in case of hydrogen or gas storage), you should use a fundamental `Store` component in combination with two `Link` components, one for charging and one for discharging (Have a look at this [PyPSA example](https://pypsa.readthedocs.io/en/latest/examples/replace-generator-storage-units-with-store.html)). We will touch on this implementation on day 2 of the training."
   ]
  },
  {
   "cell_type": "markdown",
   "metadata": {},
   "source": [
    "Initialize network"
   ]
  },
  {
   "cell_type": "code",
   "execution_count": null,
   "metadata": {},
   "outputs": [],
   "source": [
    "# import the check-point 3 network from exercise 1\n",
    "n = pypsa.Network(\"../results/network_d1_e1-3.nc\")"
   ]
  },
  {
   "cell_type": "code",
   "execution_count": null,
   "metadata": {},
   "outputs": [],
   "source": [
    "n.generators"
   ]
  },
  {
   "cell_type": "code",
   "execution_count": null,
   "metadata": {},
   "outputs": [],
   "source": [
    "n.loads"
   ]
  },
  {
   "cell_type": "markdown",
   "metadata": {},
   "source": [
    "Increase `electricity_load` to `200MW` "
   ]
  },
  {
   "cell_type": "code",
   "execution_count": null,
   "metadata": {},
   "outputs": [],
   "source": [
    "# You can modify network's component values directly via component's DataFrame, but make sure to locate correct index.\n",
    "load_id = n.loads[n.loads.bus == \"electricity\"].index\n",
    "n.loads.loc[load_id, \"p_set\"] = 200"
   ]
  },
  {
   "cell_type": "code",
   "execution_count": null,
   "metadata": {},
   "outputs": [],
   "source": [
    "n.loads"
   ]
  },
  {
   "cell_type": "markdown",
   "metadata": {},
   "source": [
    "Add a pumped hydro storage to the network with a fixed energy-to-power ratio of `8 hours`. The rated capacity of the plant should be endogenously decided by the model. All other techno-economic parameters are provided.\n",
    "\n",
    "> **Source:** all costs for this example are taken from [Danish energy agency technology database for energy storage](https://ens.dk/en/our-services/technology-catalogues/technology-data-energy-storage)."
   ]
  },
  {
   "cell_type": "code",
   "execution_count": null,
   "metadata": {},
   "outputs": [],
   "source": [
    "# We need to calculate annualized capital expenditure\n",
    "def calculate_annualised_capex(capex: float, interest: float, lifetime: int):\n",
    "    crf = (\n",
    "        interest * (1 + interest) ** lifetime / ((1 + interest) ** lifetime - 1)\n",
    "    )  # Capital recovery factor\n",
    "    return capex * crf"
   ]
  },
  {
   "cell_type": "code",
   "execution_count": null,
   "metadata": {},
   "outputs": [],
   "source": [
    "# Techno-economic parameters of the pumped hydro storage:\n",
    "lifetime = 50  # years\n",
    "interest = 0.05  # unit: -\n",
    "CAPEX = 600000  # $/MW\n",
    "FOM = 0.015 * CAPEX  # $/MW per year (between 1% and 2% of the CAPEX)\n",
    "VOM = 3.9  # $/MWh\n",
    "fuel_cost = 0  # $/MWh_th per unit water consumed\n",
    "efficiency_store = 0.8  # assuming similar storing and discharging efficiencies\n",
    "efficiency_dispatch = 0.8  # assuming similar storing and discharging efficiencies"
   ]
  },
  {
   "cell_type": "code",
   "execution_count": null,
   "metadata": {},
   "outputs": [],
   "source": [
    "annualized_capex = calculate_annualised_capex(CAPEX, interest, lifetime)\n",
    "\n",
    "n.add(\n",
    "    class_name=\"StorageUnit\",\n",
    "    name=\"pumped_hydro_storage\",\n",
    "    bus=\"electricity\",\n",
    "    marginal_cost=VOM + fuel_cost,\n",
    "    capital_cost=annualized_capex + FOM,\n",
    "    p_nom_extendable=True,\n",
    "    efficiency_store=efficiency_store,\n",
    "    efficiency_dispatch=efficiency_dispatch,\n",
    "    p_max_pu=1,  # Discharging availability\n",
    "    p_min_pu=-1,  # Charging availability\n",
    "    max_hours=8,  # energy-to-power ratio\n",
    ")"
   ]
  },
  {
   "cell_type": "markdown",
   "metadata": {},
   "source": [
    "Now try to solve the network"
   ]
  },
  {
   "cell_type": "code",
   "execution_count": null,
   "metadata": {},
   "outputs": [],
   "source": [
    "# Solve network using cbc solver\n",
    "n.optimize(solver_name=solver)"
   ]
  },
  {
   "cell_type": "markdown",
   "metadata": {},
   "source": [
    "Check if the storage plant is being invested or not?"
   ]
  },
  {
   "cell_type": "code",
   "execution_count": null,
   "metadata": {},
   "outputs": [],
   "source": [
    "n.storage_units[\"p_nom_opt\"]"
   ]
  },
  {
   "cell_type": "markdown",
   "metadata": {},
   "source": [
    "Check nominal capacities from other technologies"
   ]
  },
  {
   "cell_type": "code",
   "execution_count": null,
   "metadata": {},
   "outputs": [],
   "source": [
    "n.generators[\"p_nom_opt\"]"
   ]
  },
  {
   "cell_type": "markdown",
   "metadata": {},
   "source": [
    "Ending of check-point 1 - export network"
   ]
  },
  {
   "cell_type": "code",
   "execution_count": null,
   "metadata": {},
   "outputs": [],
   "source": [
    "# Export network\n",
    "n.export_to_netcdf(\"../results/network_d1_e2-1.nc\")"
   ]
  },
  {
   "cell_type": "markdown",
   "metadata": {},
   "source": [
    "*** \n",
    "Check-point 2:\n",
    "\n",
    "**How to force investment into storage?**\n",
    "\n",
    "_TASK: Modify the network to make it invest in either of storage options_\n",
    "\n",
    "> **Hint: None of the two storage options are invested because storage is not as cost optimal as continue using solar and gas-fired power plants.** "
   ]
  },
  {
   "cell_type": "markdown",
   "metadata": {},
   "source": [
    "**Option 1:**\n",
    "\n",
    "Reducing the cost of storage options to encourage the model to prioritize investing in storage instead of other generation methods."
   ]
  },
  {
   "cell_type": "code",
   "execution_count": null,
   "metadata": {},
   "outputs": [],
   "source": [
    "# import check-point 1 network from exercise 2\n",
    "n = pypsa.Network(\"../results/network_d1_e2-1.nc\")"
   ]
  },
  {
   "cell_type": "code",
   "execution_count": null,
   "metadata": {},
   "outputs": [],
   "source": [
    "n.storage_units.loc[\"pumped_hydro_storage\"]"
   ]
  },
  {
   "cell_type": "code",
   "execution_count": null,
   "metadata": {},
   "outputs": [],
   "source": [
    "# Remove capital costs of storage plants\n",
    "n.storage_units.loc[\"pumped_hydro_storage\", \"capital_cost\"] = 0"
   ]
  },
  {
   "cell_type": "code",
   "execution_count": null,
   "metadata": {},
   "outputs": [],
   "source": [
    "# Solve network again\n",
    "n.optimize(solver_name=solver)"
   ]
  },
  {
   "cell_type": "markdown",
   "metadata": {},
   "source": [
    "Now inspect the invested capacity and dispatch pattern of the system again."
   ]
  },
  {
   "cell_type": "code",
   "execution_count": null,
   "metadata": {},
   "outputs": [],
   "source": [
    "# Inspect capacity of pumped hydro storage\n",
    "n.storage_units.loc[\"pumped_hydro_storage\", \"p_nom_opt\"]"
   ]
  },
  {
   "cell_type": "code",
   "execution_count": null,
   "metadata": {},
   "outputs": [],
   "source": [
    "# Inspect capacity of other plants\n",
    "n.generators[\"p_nom_opt\"]"
   ]
  },
  {
   "cell_type": "code",
   "execution_count": null,
   "metadata": {},
   "outputs": [],
   "source": [
    "# Inspect storage interaction with other power plants to supply loads\n",
    "load = n.loads_t.p\n",
    "pow_gen = n.generators_t.p\n",
    "storage = n.storage_units_t.p\n",
    "result = pd.concat([pow_gen, storage, load], axis=1)\n",
    "result.round().head(24)"
   ]
  },
  {
   "cell_type": "code",
   "execution_count": null,
   "metadata": {},
   "outputs": [],
   "source": [
    "# First drop the load and nuclear generation columns\n",
    "plot = result.loc[:, ~result.columns.isin([\"electricity_load\", \"nuclear_power_plant\"])]\n",
    "plot.iloc[:48, :].plot(kind=\"bar\", stacked=True, figsize=(14, 5))"
   ]
  },
  {
   "cell_type": "markdown",
   "metadata": {},
   "source": [
    "**Option 2:**\n",
    "\n",
    "Having some initial filling for storage\n",
    "\n",
    "> **Remarks:You can use `state_of_charge_initial` to set initial filling of an storage.**"
   ]
  },
  {
   "cell_type": "code",
   "execution_count": null,
   "metadata": {},
   "outputs": [],
   "source": [
    "# import check-point 1 network from exercise 2\n",
    "n = pypsa.Network(\"../results/network_d1_e2-1.nc\")"
   ]
  },
  {
   "cell_type": "code",
   "execution_count": null,
   "metadata": {},
   "outputs": [],
   "source": [
    "# Adding initial filling of storage to cover the first 8 hours\n",
    "load = n.loads.loc[\"electricity_load\", \"p_set\"]\n",
    "max_hours = n.storage_units.loc[\"pumped_hydro_storage\", \"max_hours\"]\n",
    "n.storage_units.loc[\"pumped_hydro_storage\", \"state_of_charge_initial\"] = (\n",
    "    load * max_hours\n",
    ")"
   ]
  },
  {
   "cell_type": "code",
   "execution_count": null,
   "metadata": {},
   "outputs": [],
   "source": [
    "# Solve network again\n",
    "n.optimize(solver_name=solver)"
   ]
  },
  {
   "cell_type": "markdown",
   "metadata": {},
   "source": [
    "Now inspect the invested capacity and dispatch pattern of the system again."
   ]
  },
  {
   "cell_type": "code",
   "execution_count": null,
   "metadata": {},
   "outputs": [],
   "source": [
    "n.storage_units[\"p_nom_opt\"]"
   ]
  },
  {
   "cell_type": "code",
   "execution_count": null,
   "metadata": {},
   "outputs": [],
   "source": [
    "# Inspect nominal capacity of other plants\n",
    "n.generators[\"p_nom_opt\"]"
   ]
  },
  {
   "cell_type": "code",
   "execution_count": null,
   "metadata": {},
   "outputs": [],
   "source": [
    "# Inspect storage interaction with other powerplants to supply loads\n",
    "load = n.loads_t.p\n",
    "pow_gen = n.generators_t.p\n",
    "storage = n.storage_units_t.p\n",
    "result = pd.concat([pow_gen, storage, load], axis=1)\n",
    "\n",
    "plot = result.loc[\n",
    "    :, ~result.columns.isin([\"electricity_load\", \"nuclear_power_plant\"])\n",
    "]  # drop load and nuclear columns\n",
    "plot.iloc[:48, :].plot(kind=\"bar\", stacked=True, figsize=(14, 5))"
   ]
  }
 ],
 "metadata": {
  "kernelspec": {
   "display_name": "pypsa-agora-h2",
   "language": "python",
   "name": "python3"
  },
  "language_info": {
   "codemirror_mode": {
    "name": "ipython",
    "version": 3
   },
   "file_extension": ".py",
   "mimetype": "text/x-python",
   "name": "python",
   "nbconvert_exporter": "python",
   "pygments_lexer": "ipython3",
   "version": "3.11.10"
  }
 },
 "nbformat": 4,
 "nbformat_minor": 2
}
